{
 "cells": [
  {
   "cell_type": "markdown",
   "metadata": {},
   "source": [
    "# PRÁCTICA 2 TID: AGRUPAMIENTO\n",
    "## Raúl González Acosta ([alu0101543529](mailto:alu0101543529@ull.edu.es))\n",
    "---"
   ]
  },
  {
   "cell_type": "markdown",
   "metadata": {},
   "source": [
    "## Preparación del entorno"
   ]
  },
  {
   "cell_type": "markdown",
   "metadata": {},
   "source": [
    "En primer lugar, **cargamos las librerías** que vamos a utilizar a lo largo de todo el cuaderno.\n",
    "- `pandas`: para procesar los datos desde un archivo csv.\n",
    "- `numpy`: para el manejo de arrays y operaciones matemáticas.\n",
    "- `matplotlib`: para la generación de gráficos.\n",
    "- `seaborn`: para la generación de gráficos interactivos.\n",
    "- `sklearn`: para la implementación de algoritmos de aprendizaje automático.\n",
    "- `mpl_toolkits.mplot3d`: para la generación de gráficos 3D."
   ]
  },
  {
   "cell_type": "code",
   "execution_count": null,
   "metadata": {},
   "outputs": [],
   "source": [
    "%pip install pandas numpy matplotlib seaborn sklearn mpl_toolkits plotly\n",
    "%pip install --upgrade nbformat\n",
    "\n",
    "import pandas as pd\n",
    "import numpy as np\n",
    "import matplotlib.pyplot as plt\n",
    "import seaborn as sb\n",
    "from sklearn.cluster import KMeans\n",
    "from sklearn.metrics import pairwise_distances_argmin_min\n",
    "\n",
    "%matplotlib inline \n",
    "from mpl_toolkits.mplot3d import Axes3D\n",
    "plt.rcParams['figure.figsize'] = (16, 9)\n",
    "plt.style.use('ggplot')"
   ]
  },
  {
   "cell_type": "markdown",
   "metadata": {},
   "source": [
    "## Comprensión de la base de datos\n",
    "En primer lugar cargamos los datos del fichero `csv` y mostramos las primeras filas para entender la estructura de los datos."
   ]
  },
  {
   "cell_type": "code",
   "execution_count": 137,
   "metadata": {},
   "outputs": [
    {
     "data": {
      "text/html": [
       "<div>\n",
       "<style scoped>\n",
       "    .dataframe tbody tr th:only-of-type {\n",
       "        vertical-align: middle;\n",
       "    }\n",
       "\n",
       "    .dataframe tbody tr th {\n",
       "        vertical-align: top;\n",
       "    }\n",
       "\n",
       "    .dataframe thead th {\n",
       "        text-align: right;\n",
       "    }\n",
       "</style>\n",
       "<table border=\"1\" class=\"dataframe\">\n",
       "  <thead>\n",
       "    <tr style=\"text-align: right;\">\n",
       "      <th></th>\n",
       "      <th>CustomerID</th>\n",
       "      <th>Genre</th>\n",
       "      <th>Age</th>\n",
       "      <th>Annual Income</th>\n",
       "      <th>Spending Score</th>\n",
       "    </tr>\n",
       "  </thead>\n",
       "  <tbody>\n",
       "    <tr>\n",
       "      <th>0</th>\n",
       "      <td>1</td>\n",
       "      <td>Male</td>\n",
       "      <td>19</td>\n",
       "      <td>15</td>\n",
       "      <td>39</td>\n",
       "    </tr>\n",
       "    <tr>\n",
       "      <th>1</th>\n",
       "      <td>2</td>\n",
       "      <td>Male</td>\n",
       "      <td>21</td>\n",
       "      <td>15</td>\n",
       "      <td>81</td>\n",
       "    </tr>\n",
       "    <tr>\n",
       "      <th>2</th>\n",
       "      <td>3</td>\n",
       "      <td>Female</td>\n",
       "      <td>20</td>\n",
       "      <td>16</td>\n",
       "      <td>6</td>\n",
       "    </tr>\n",
       "    <tr>\n",
       "      <th>3</th>\n",
       "      <td>4</td>\n",
       "      <td>Female</td>\n",
       "      <td>23</td>\n",
       "      <td>16</td>\n",
       "      <td>77</td>\n",
       "    </tr>\n",
       "    <tr>\n",
       "      <th>4</th>\n",
       "      <td>5</td>\n",
       "      <td>Female</td>\n",
       "      <td>31</td>\n",
       "      <td>17</td>\n",
       "      <td>40</td>\n",
       "    </tr>\n",
       "    <tr>\n",
       "      <th>5</th>\n",
       "      <td>6</td>\n",
       "      <td>Female</td>\n",
       "      <td>22</td>\n",
       "      <td>17</td>\n",
       "      <td>76</td>\n",
       "    </tr>\n",
       "    <tr>\n",
       "      <th>6</th>\n",
       "      <td>7</td>\n",
       "      <td>Female</td>\n",
       "      <td>35</td>\n",
       "      <td>18</td>\n",
       "      <td>6</td>\n",
       "    </tr>\n",
       "    <tr>\n",
       "      <th>7</th>\n",
       "      <td>8</td>\n",
       "      <td>Female</td>\n",
       "      <td>23</td>\n",
       "      <td>18</td>\n",
       "      <td>94</td>\n",
       "    </tr>\n",
       "    <tr>\n",
       "      <th>8</th>\n",
       "      <td>9</td>\n",
       "      <td>Male</td>\n",
       "      <td>64</td>\n",
       "      <td>19</td>\n",
       "      <td>3</td>\n",
       "    </tr>\n",
       "    <tr>\n",
       "      <th>9</th>\n",
       "      <td>10</td>\n",
       "      <td>Female</td>\n",
       "      <td>30</td>\n",
       "      <td>19</td>\n",
       "      <td>72</td>\n",
       "    </tr>\n",
       "  </tbody>\n",
       "</table>\n",
       "</div>"
      ],
      "text/plain": [
       "   CustomerID   Genre  Age  Annual Income  Spending Score\n",
       "0           1    Male   19             15              39\n",
       "1           2    Male   21             15              81\n",
       "2           3  Female   20             16               6\n",
       "3           4  Female   23             16              77\n",
       "4           5  Female   31             17              40\n",
       "5           6  Female   22             17              76\n",
       "6           7  Female   35             18               6\n",
       "7           8  Female   23             18              94\n",
       "8           9    Male   64             19               3\n",
       "9          10  Female   30             19              72"
      ]
     },
     "execution_count": 137,
     "metadata": {},
     "output_type": "execute_result"
    }
   ],
   "source": [
    "dataframe = pd.read_csv(r\"dataframe/mallCustomers.csv\", sep=',')\n",
    "# Mostramos los diez primeros registros de la base de datos\n",
    "dataframe.head(10)"
   ]
  },
  {
   "cell_type": "markdown",
   "metadata": {},
   "source": [
    "Veamos que distribución tienen los datos haciendo uso de un histograma."
   ]
  },
  {
   "cell_type": "code",
   "execution_count": 138,
   "metadata": {},
   "outputs": [
    {
     "data": {
      "image/png": "[encoded data removed]",
      "text/plain": [
       "<Figure size 1600x900 with 4 Axes>"
      ]
     },
     "metadata": {},
     "output_type": "display_data"
    }
   ],
   "source": [
    "# Previamente hemos eliminado la columna CustomerID, ya que no aporta información relevante\n",
    "dataframe.drop('CustomerID', axis = 1).hist(color = 'black')\n",
    "plt.show()"
   ]
  },
  {
   "cell_type": "markdown",
   "metadata": {},
   "source": [
    "Veamos también la correlación entre las variables."
   ]
  },
  {
   "cell_type": "code",
   "execution_count": 139,
   "metadata": {},
   "outputs": [
    {
     "data": {
      "text/plain": [
       "<seaborn.axisgrid.PairGrid at 0x7dd3303854c0>"
      ]
     },
     "execution_count": 139,
     "metadata": {},
     "output_type": "execute_result"
    },
    {
     "data": {
      "image/png": "[encoded data removed]",
      "text/plain": [
       "<Figure size 750x750 with 12 Axes>"
      ]
     },
     "metadata": {},
     "output_type": "display_data"
    }
   ],
   "source": [
    "# Mostramos las relaciones entre los datos\n",
    "sb.pairplot(dataframe.drop('CustomerID', axis = 1), height = 2.5)"
   ]
  },
  {
   "cell_type": "markdown",
   "metadata": {},
   "source": [
    "## Tratamiento de los datos"
   ]
  },
  {
   "cell_type": "markdown",
   "metadata": {},
   "source": [
    "Para esta primera aproximación, vamos a quitar la columna de `CustomerID`, ya que esta es solamente un identificador que nada aporta al estudio; y la columna de `Genre` ya que no la vamos a tener en cuenta en este primer estudio."
   ]
  },
  {
   "cell_type": "code",
   "execution_count": 140,
   "metadata": {},
   "outputs": [
    {
     "data": {
      "text/html": [
       "<div>\n",
       "<style scoped>\n",
       "    .dataframe tbody tr th:only-of-type {\n",
       "        vertical-align: middle;\n",
       "    }\n",
       "\n",
       "    .dataframe tbody tr th {\n",
       "        vertical-align: top;\n",
       "    }\n",
       "\n",
       "    .dataframe thead th {\n",
       "        text-align: right;\n",
       "    }\n",
       "</style>\n",
       "<table border=\"1\" class=\"dataframe\">\n",
       "  <thead>\n",
       "    <tr style=\"text-align: right;\">\n",
       "      <th></th>\n",
       "      <th>Age</th>\n",
       "      <th>Annual Income</th>\n",
       "      <th>Spending Score</th>\n",
       "    </tr>\n",
       "  </thead>\n",
       "  <tbody>\n",
       "    <tr>\n",
       "      <th>0</th>\n",
       "      <td>19</td>\n",
       "      <td>15</td>\n",
       "      <td>39</td>\n",
       "    </tr>\n",
       "    <tr>\n",
       "      <th>1</th>\n",
       "      <td>21</td>\n",
       "      <td>15</td>\n",
       "      <td>81</td>\n",
       "    </tr>\n",
       "    <tr>\n",
       "      <th>2</th>\n",
       "      <td>20</td>\n",
       "      <td>16</td>\n",
       "      <td>6</td>\n",
       "    </tr>\n",
       "    <tr>\n",
       "      <th>3</th>\n",
       "      <td>23</td>\n",
       "      <td>16</td>\n",
       "      <td>77</td>\n",
       "    </tr>\n",
       "    <tr>\n",
       "      <th>4</th>\n",
       "      <td>31</td>\n",
       "      <td>17</td>\n",
       "      <td>40</td>\n",
       "    </tr>\n",
       "    <tr>\n",
       "      <th>5</th>\n",
       "      <td>22</td>\n",
       "      <td>17</td>\n",
       "      <td>76</td>\n",
       "    </tr>\n",
       "    <tr>\n",
       "      <th>6</th>\n",
       "      <td>35</td>\n",
       "      <td>18</td>\n",
       "      <td>6</td>\n",
       "    </tr>\n",
       "    <tr>\n",
       "      <th>7</th>\n",
       "      <td>23</td>\n",
       "      <td>18</td>\n",
       "      <td>94</td>\n",
       "    </tr>\n",
       "    <tr>\n",
       "      <th>8</th>\n",
       "      <td>64</td>\n",
       "      <td>19</td>\n",
       "      <td>3</td>\n",
       "    </tr>\n",
       "    <tr>\n",
       "      <th>9</th>\n",
       "      <td>30</td>\n",
       "      <td>19</td>\n",
       "      <td>72</td>\n",
       "    </tr>\n",
       "  </tbody>\n",
       "</table>\n",
       "</div>"
      ],
      "text/plain": [
       "   Age  Annual Income  Spending Score\n",
       "0   19             15              39\n",
       "1   21             15              81\n",
       "2   20             16               6\n",
       "3   23             16              77\n",
       "4   31             17              40\n",
       "5   22             17              76\n",
       "6   35             18               6\n",
       "7   23             18              94\n",
       "8   64             19               3\n",
       "9   30             19              72"
      ]
     },
     "execution_count": 140,
     "metadata": {},
     "output_type": "execute_result"
    }
   ],
   "source": [
    "# Quitamos la columna de CustomerID\n",
    "dataframe = dataframe.drop('CustomerID', axis = 1)\n",
    "# Quitamos la columna de Genre\n",
    "dataframe = dataframe.drop('Genre', axis = 1)\n",
    "# Mostramos la base de datos con las columnas eliminadas\n",
    "dataframe.head(10)"
   ]
  },
  {
   "cell_type": "markdown",
   "metadata": {},
   "source": [
    "Ahora comprobemos si existen outliers en los datos, haciendo uso de un diagrama de cajas, para observar si existen valores atípicos en los datos."
   ]
  },
  {
   "cell_type": "code",
   "execution_count": 141,
   "metadata": {},
   "outputs": [
    {
     "data": {
      "text/plain": [
       "Text(0.5, 1.0, 'Diagrama de cajas de las variables')"
      ]
     },
     "execution_count": 141,
     "metadata": {},
     "output_type": "execute_result"
    },
    {
     "data": {
      "image/png": "[encoded data removed]",
      "text/plain": [
       "<Figure size 1600x900 with 1 Axes>"
      ]
     },
     "metadata": {},
     "output_type": "display_data"
    }
   ],
   "source": [
    "# Comprobamos si existen outliers\n",
    "sb.boxplot(data = dataframe, orient = 'h').set_title(\"Diagrama de cajas de las variables\")"
   ]
  },
  {
   "cell_type": "markdown",
   "metadata": {},
   "source": [
    "Detectamos un outlier en la columna de `Annual Income`, por lo que vamos a proceder a eliminarlo."
   ]
  },
  {
   "cell_type": "code",
   "execution_count": 142,
   "metadata": {},
   "outputs": [
    {
     "data": {
      "text/html": [
       "<div>\n",
       "<style scoped>\n",
       "    .dataframe tbody tr th:only-of-type {\n",
       "        vertical-align: middle;\n",
       "    }\n",
       "\n",
       "    .dataframe tbody tr th {\n",
       "        vertical-align: top;\n",
       "    }\n",
       "\n",
       "    .dataframe thead th {\n",
       "        text-align: right;\n",
       "    }\n",
       "</style>\n",
       "<table border=\"1\" class=\"dataframe\">\n",
       "  <thead>\n",
       "    <tr style=\"text-align: right;\">\n",
       "      <th></th>\n",
       "      <th>Age</th>\n",
       "      <th>Annual Income</th>\n",
       "      <th>Spending Score</th>\n",
       "    </tr>\n",
       "  </thead>\n",
       "  <tbody>\n",
       "    <tr>\n",
       "      <th>198</th>\n",
       "      <td>32</td>\n",
       "      <td>137</td>\n",
       "      <td>18</td>\n",
       "    </tr>\n",
       "    <tr>\n",
       "      <th>199</th>\n",
       "      <td>30</td>\n",
       "      <td>137</td>\n",
       "      <td>83</td>\n",
       "    </tr>\n",
       "  </tbody>\n",
       "</table>\n",
       "</div>"
      ],
      "text/plain": [
       "     Age  Annual Income  Spending Score\n",
       "198   32            137              18\n",
       "199   30            137              83"
      ]
     },
     "execution_count": 142,
     "metadata": {},
     "output_type": "execute_result"
    }
   ],
   "source": [
    "dataframe[dataframe['Annual Income'] > 130]"
   ]
  },
  {
   "cell_type": "code",
   "execution_count": 112,
   "metadata": {},
   "outputs": [
    {
     "data": {
      "text/html": [
       "<div>\n",
       "<style scoped>\n",
       "    .dataframe tbody tr th:only-of-type {\n",
       "        vertical-align: middle;\n",
       "    }\n",
       "\n",
       "    .dataframe tbody tr th {\n",
       "        vertical-align: top;\n",
       "    }\n",
       "\n",
       "    .dataframe thead th {\n",
       "        text-align: right;\n",
       "    }\n",
       "</style>\n",
       "<table border=\"1\" class=\"dataframe\">\n",
       "  <thead>\n",
       "    <tr style=\"text-align: right;\">\n",
       "      <th></th>\n",
       "      <th>Age</th>\n",
       "      <th>Annual Income</th>\n",
       "      <th>Spending Score</th>\n",
       "    </tr>\n",
       "  </thead>\n",
       "  <tbody>\n",
       "    <tr>\n",
       "      <th>0</th>\n",
       "      <td>19</td>\n",
       "      <td>15</td>\n",
       "      <td>39</td>\n",
       "    </tr>\n",
       "    <tr>\n",
       "      <th>1</th>\n",
       "      <td>21</td>\n",
       "      <td>15</td>\n",
       "      <td>81</td>\n",
       "    </tr>\n",
       "    <tr>\n",
       "      <th>2</th>\n",
       "      <td>20</td>\n",
       "      <td>16</td>\n",
       "      <td>6</td>\n",
       "    </tr>\n",
       "    <tr>\n",
       "      <th>3</th>\n",
       "      <td>23</td>\n",
       "      <td>16</td>\n",
       "      <td>77</td>\n",
       "    </tr>\n",
       "    <tr>\n",
       "      <th>4</th>\n",
       "      <td>31</td>\n",
       "      <td>17</td>\n",
       "      <td>40</td>\n",
       "    </tr>\n",
       "    <tr>\n",
       "      <th>5</th>\n",
       "      <td>22</td>\n",
       "      <td>17</td>\n",
       "      <td>76</td>\n",
       "    </tr>\n",
       "    <tr>\n",
       "      <th>6</th>\n",
       "      <td>35</td>\n",
       "      <td>18</td>\n",
       "      <td>6</td>\n",
       "    </tr>\n",
       "    <tr>\n",
       "      <th>7</th>\n",
       "      <td>23</td>\n",
       "      <td>18</td>\n",
       "      <td>94</td>\n",
       "    </tr>\n",
       "    <tr>\n",
       "      <th>8</th>\n",
       "      <td>64</td>\n",
       "      <td>19</td>\n",
       "      <td>3</td>\n",
       "    </tr>\n",
       "    <tr>\n",
       "      <th>9</th>\n",
       "      <td>30</td>\n",
       "      <td>19</td>\n",
       "      <td>72</td>\n",
       "    </tr>\n",
       "  </tbody>\n",
       "</table>\n",
       "</div>"
      ],
      "text/plain": [
       "   Age  Annual Income  Spending Score\n",
       "0   19             15              39\n",
       "1   21             15              81\n",
       "2   20             16               6\n",
       "3   23             16              77\n",
       "4   31             17              40\n",
       "5   22             17              76\n",
       "6   35             18               6\n",
       "7   23             18              94\n",
       "8   64             19               3\n",
       "9   30             19              72"
      ]
     },
     "execution_count": 112,
     "metadata": {},
     "output_type": "execute_result"
    }
   ],
   "source": [
    "# Quitamos los outliers detectados, puesto que suponen ruido en el análisis.\n",
    "dataframe = dataframe[dataframe['Annual Income'] < 130]\n",
    "dataframe.head(10)"
   ]
  },
  {
   "cell_type": "markdown",
   "metadata": {},
   "source": [
    "Una vez eliminado el outlier, vamos a normalizar los datos para que todas las variables tengan la misma importancia."
   ]
  },
  {
   "cell_type": "code",
   "execution_count": 113,
   "metadata": {},
   "outputs": [
    {
     "data": {
      "text/html": [
       "<div>\n",
       "<style scoped>\n",
       "    .dataframe tbody tr th:only-of-type {\n",
       "        vertical-align: middle;\n",
       "    }\n",
       "\n",
       "    .dataframe tbody tr th {\n",
       "        vertical-align: top;\n",
       "    }\n",
       "\n",
       "    .dataframe thead th {\n",
       "        text-align: right;\n",
       "    }\n",
       "</style>\n",
       "<table border=\"1\" class=\"dataframe\">\n",
       "  <thead>\n",
       "    <tr style=\"text-align: right;\">\n",
       "      <th></th>\n",
       "      <th>Age</th>\n",
       "      <th>Annual Income</th>\n",
       "      <th>Spending Score</th>\n",
       "    </tr>\n",
       "  </thead>\n",
       "  <tbody>\n",
       "    <tr>\n",
       "      <th>0</th>\n",
       "      <td>0.019231</td>\n",
       "      <td>0.000000</td>\n",
       "      <td>0.387755</td>\n",
       "    </tr>\n",
       "    <tr>\n",
       "      <th>1</th>\n",
       "      <td>0.057692</td>\n",
       "      <td>0.000000</td>\n",
       "      <td>0.816327</td>\n",
       "    </tr>\n",
       "    <tr>\n",
       "      <th>2</th>\n",
       "      <td>0.038462</td>\n",
       "      <td>0.009009</td>\n",
       "      <td>0.051020</td>\n",
       "    </tr>\n",
       "    <tr>\n",
       "      <th>3</th>\n",
       "      <td>0.096154</td>\n",
       "      <td>0.009009</td>\n",
       "      <td>0.775510</td>\n",
       "    </tr>\n",
       "    <tr>\n",
       "      <th>4</th>\n",
       "      <td>0.250000</td>\n",
       "      <td>0.018018</td>\n",
       "      <td>0.397959</td>\n",
       "    </tr>\n",
       "  </tbody>\n",
       "</table>\n",
       "</div>"
      ],
      "text/plain": [
       "        Age  Annual Income  Spending Score\n",
       "0  0.019231       0.000000        0.387755\n",
       "1  0.057692       0.000000        0.816327\n",
       "2  0.038462       0.009009        0.051020\n",
       "3  0.096154       0.009009        0.775510\n",
       "4  0.250000       0.018018        0.397959"
      ]
     },
     "execution_count": 113,
     "metadata": {},
     "output_type": "execute_result"
    }
   ],
   "source": [
    "dataframe = (dataframe - dataframe.min()) / (dataframe.max() - dataframe.min())\n",
    "dataframe.head()"
   ]
  },
  {
   "cell_type": "markdown",
   "metadata": {},
   "source": [
    "Procedamos ahora a la estandarización de los datos, para que tengan una media de 0 y una desviación estándar de 1."
   ]
  },
  {
   "cell_type": "code",
   "execution_count": 143,
   "metadata": {},
   "outputs": [
    {
     "data": {
      "text/html": [
       "<div>\n",
       "<style scoped>\n",
       "    .dataframe tbody tr th:only-of-type {\n",
       "        vertical-align: middle;\n",
       "    }\n",
       "\n",
       "    .dataframe tbody tr th {\n",
       "        vertical-align: top;\n",
       "    }\n",
       "\n",
       "    .dataframe thead th {\n",
       "        text-align: right;\n",
       "    }\n",
       "</style>\n",
       "<table border=\"1\" class=\"dataframe\">\n",
       "  <thead>\n",
       "    <tr style=\"text-align: right;\">\n",
       "      <th></th>\n",
       "      <th>Age</th>\n",
       "      <th>Annual Income</th>\n",
       "      <th>Spending Score</th>\n",
       "    </tr>\n",
       "  </thead>\n",
       "  <tbody>\n",
       "    <tr>\n",
       "      <th>0</th>\n",
       "      <td>-1.421003</td>\n",
       "      <td>-1.734646</td>\n",
       "      <td>-0.433713</td>\n",
       "    </tr>\n",
       "    <tr>\n",
       "      <th>1</th>\n",
       "      <td>-1.277829</td>\n",
       "      <td>-1.734646</td>\n",
       "      <td>1.192711</td>\n",
       "    </tr>\n",
       "    <tr>\n",
       "      <th>2</th>\n",
       "      <td>-1.349416</td>\n",
       "      <td>-1.696572</td>\n",
       "      <td>-1.711618</td>\n",
       "    </tr>\n",
       "    <tr>\n",
       "      <th>3</th>\n",
       "      <td>-1.134655</td>\n",
       "      <td>-1.696572</td>\n",
       "      <td>1.037814</td>\n",
       "    </tr>\n",
       "    <tr>\n",
       "      <th>4</th>\n",
       "      <td>-0.561958</td>\n",
       "      <td>-1.658498</td>\n",
       "      <td>-0.394989</td>\n",
       "    </tr>\n",
       "  </tbody>\n",
       "</table>\n",
       "</div>"
      ],
      "text/plain": [
       "        Age  Annual Income  Spending Score\n",
       "0 -1.421003      -1.734646       -0.433713\n",
       "1 -1.277829      -1.734646        1.192711\n",
       "2 -1.349416      -1.696572       -1.711618\n",
       "3 -1.134655      -1.696572        1.037814\n",
       "4 -0.561958      -1.658498       -0.394989"
      ]
     },
     "execution_count": 143,
     "metadata": {},
     "output_type": "execute_result"
    }
   ],
   "source": [
    "dataframe_mean = dataframe.mean()\n",
    "dataframe_std = dataframe.std()\n",
    "dataframe = (dataframe - dataframe_mean) / dataframe_std\n",
    "dataframe.head()"
   ]
  },
  {
   "cell_type": "markdown",
   "metadata": {},
   "source": [
    "## Agrupamiento (Clustering) de los datos"
   ]
  },
  {
   "cell_type": "markdown",
   "metadata": {},
   "source": [
    "Una vez que tenemos los datos preparados, vamos a proceder a realizar el agrupamiento de los mismos.\n",
    "\n",
    "Para ello, primero visualizaremos los datos en un gráfico 3D para ver si nos aporta alguna información."
   ]
  },
  {
   "cell_type": "code",
   "execution_count": 291,
   "metadata": {},
   "outputs": [
    {
     "data": {
      "application/vnd.plotly.v1+json": {
       "config": {
        "plotlyServerURL": "https://plot.ly"
       },
       "data": [
        {
         "hovertemplate": "Age=%{x}<br>Annual Income=%{y}<br>Spending Score=%{z}<extra></extra>",
         "legendgroup": "",
         "marker": {
          "color": "#636efa",
          "symbol": "circle"
         },
         "mode": "markers",
         "name": "",
         "scene": "scene",
         "showlegend": false,
         "type": "scatter3d",
         "x": {
          "bdata": "ExUUFx8WIxdAHkMjOhglFiMUNCMjGS4fNh0tIygXPBU1EjEVKh4kFEEYMB8xGDIbHR8xIR87Mi8zRRs1RhNDNj8SK0QTIEYvPDw7Gi0oFzE5JkMuFTA3FiIyRBIwKCAYLxswFBcxQxoxFUI2REJBEyYTEhM/MTMyGyYoJxcfKyg7Ji8nGR8UHSwgEyM5IBwgGRwwICIiKycsJi8bJR4iHjgdEx8yJCohJCAoHCQkNB46GzsjJSAuHSkeNhwpJCIgISYvIy0gIB4=",
          "dtype": "i1"
         },
         "y": {
          "bdata": "DwAPABAAEAARABEAEgASABMAEwATABMAFAAUABQAFAAVABUAFwAXABgAGAAZABkAHAAcABwAHAAdAB0AHgAeACEAIQAhACEAIgAiACUAJQAmACYAJwAnACcAJwAoACgAKAAoACoAKgArACsAKwArACwALAAuAC4ALgAuAC8ALwAwADAAMAAwADAAMAAxADEAMgAyADYANgA2ADYANgA2ADYANgA2ADYANgA2ADkAOQA6ADoAOwA7ADwAPAA8ADwAPAA8AD0APQA+AD4APgA+AD4APgA/AD8APwA/AD8APwBAAEAAQQBBAEEAQQBDAEMAQwBDAEUARQBGAEYARwBHAEcARwBHAEcASABIAEkASQBJAEkASgBKAEsASwBMAEwATQBNAE0ATQBOAE4ATgBOAE4ATgBOAE4ATgBOAE4ATgBPAE8AUQBRAFUAVQBWAFYAVwBXAFcAVwBXAFcAWABYAFgAWABdAF0AYQBhAGIAYgBjAGMAZQBlAGcAZwBnAGcAcQBxAHgAeAB+AH4AiQCJAA==",
          "dtype": "i2"
         },
         "z": {
          "bdata": "J1EGTShMBl4DSA5jD00NTyNCHWIjSQVJDlIgPR9XBEkEXA5REUkaSyNcJD0cQTcvKio0PDY8LSkyLjMuODc0OzM7MjA7LzcqMTgvNjUwNCozNyksOS46NzwuNykxKCo0LzIqMSkwOzc4KjIuKzA0NiouMDIrOys5OCg6Wx1NI18LSwlLIkcFWAdJCkgFXShXDGEkShZaEVgUTBBZAU4BSSNTBV0aSxRfGz8NSwpcDVYPRQ5aIFYPWCdhGEQRVRdFCFsQTxxKElM=",
          "dtype": "i1"
         }
        }
       ],
       "layout": {
        "legend": {
         "tracegroupgap": 0
        },
        "margin": {
         "t": 60
        },
        "scene": {
         "domain": {
          "x": [
           0,
           1
          ],
          "y": [
           0,
           1
          ]
         },
         "xaxis": {
          "title": {
           "text": "Age"
          }
         },
         "yaxis": {
          "title": {
           "text": "Annual Income"
          }
         },
         "zaxis": {
          "title": {
           "text": "Spending Score"
          }
         }
        },
        "template": {
         "data": {
          "bar": [
           {
            "error_x": {
             "color": "#2a3f5f"
            },
            "error_y": {
             "color": "#2a3f5f"
            },
            "marker": {
             "line": {
              "color": "#E5ECF6",
              "width": 0.5
             },
             "pattern": {
              "fillmode": "overlay",
              "size": 10,
              "solidity": 0.2
             }
            },
            "type": "bar"
           }
          ],
          "barpolar": [
           {
            "marker": {
             "line": {
              "color": "#E5ECF6",
              "width": 0.5
             },
             "pattern": {
              "fillmode": "overlay",
              "size": 10,
              "solidity": 0.2
             }
            },
            "type": "barpolar"
           }
          ],
          "carpet": [
           {
            "aaxis": {
             "endlinecolor": "#2a3f5f",
             "gridcolor": "white",
             "linecolor": "white",
             "minorgridcolor": "white",
             "startlinecolor": "#2a3f5f"
            },
            "baxis": {
             "endlinecolor": "#2a3f5f",
             "gridcolor": "white",
             "linecolor": "white",
             "minorgridcolor": "white",
             "startlinecolor": "#2a3f5f"
            },
            "type": "carpet"
           }
          ],
          "choropleth": [
           {
            "colorbar": {
             "outlinewidth": 0,
             "ticks": ""
            },
            "type": "choropleth"
           }
          ],
          "contour": [
           {
            "colorbar": {
             "outlinewidth": 0,
             "ticks": ""
            },
            "colorscale": [
             [
              0,
              "#0d0887"
             ],
             [
              0.1111111111111111,
              "#46039f"
             ],
             [
              0.2222222222222222,
              "#7201a8"
             ],
             [
              0.3333333333333333,
              "#9c179e"
             ],
             [
              0.4444444444444444,
              "#bd3786"
             ],
             [
              0.5555555555555556,
              "#d8576b"
             ],
             [
              0.6666666666666666,
              "#ed7953"
             ],
             [
              0.7777777777777778,
              "#fb9f3a"
             ],
             [
              0.8888888888888888,
              "#fdca26"
             ],
             [
              1,
              "#f0f921"
             ]
            ],
            "type": "contour"
           }
          ],
          "contourcarpet": [
           {
            "colorbar": {
             "outlinewidth": 0,
             "ticks": ""
            },
            "type": "contourcarpet"
           }
          ],
          "heatmap": [
           {
            "colorbar": {
             "outlinewidth": 0,
             "ticks": ""
            },
            "colorscale": [
             [
              0,
              "#0d0887"
             ],
             [
              0.1111111111111111,
              "#46039f"
             ],
             [
              0.2222222222222222,
              "#7201a8"
             ],
             [
              0.3333333333333333,
              "#9c179e"
             ],
             [
              0.4444444444444444,
              "#bd3786"
             ],
             [
              0.5555555555555556,
              "#d8576b"
             ],
             [
              0.6666666666666666,
              "#ed7953"
             ],
             [
              0.7777777777777778,
              "#fb9f3a"
             ],
             [
              0.8888888888888888,
              "#fdca26"
             ],
             [
              1,
              "#f0f921"
             ]
            ],
            "type": "heatmap"
           }
          ],
          "histogram": [
           {
            "marker": {
             "pattern": {
              "fillmode": "overlay",
              "size": 10,
              "solidity": 0.2
             }
            },
            "type": "histogram"
           }
          ],
          "histogram2d": [
           {
            "colorbar": {
             "outlinewidth": 0,
             "ticks": ""
            },
            "colorscale": [
             [
              0,
              "#0d0887"
             ],
             [
              0.1111111111111111,
              "#46039f"
             ],
             [
              0.2222222222222222,
              "#7201a8"
             ],
             [
              0.3333333333333333,
              "#9c179e"
             ],
             [
              0.4444444444444444,
              "#bd3786"
             ],
             [
              0.5555555555555556,
              "#d8576b"
             ],
             [
              0.6666666666666666,
              "#ed7953"
             ],
             [
              0.7777777777777778,
              "#fb9f3a"
             ],
             [
              0.8888888888888888,
              "#fdca26"
             ],
             [
              1,
              "#f0f921"
             ]
            ],
            "type": "histogram2d"
           }
          ],
          "histogram2dcontour": [
           {
            "colorbar": {
             "outlinewidth": 0,
             "ticks": ""
            },
            "colorscale": [
             [
              0,
              "#0d0887"
             ],
             [
              0.1111111111111111,
              "#46039f"
             ],
             [
              0.2222222222222222,
              "#7201a8"
             ],
             [
              0.3333333333333333,
              "#9c179e"
             ],
             [
              0.4444444444444444,
              "#bd3786"
             ],
             [
              0.5555555555555556,
              "#d8576b"
             ],
             [
              0.6666666666666666,
              "#ed7953"
             ],
             [
              0.7777777777777778,
              "#fb9f3a"
             ],
             [
              0.8888888888888888,
              "#fdca26"
             ],
             [
              1,
              "#f0f921"
             ]
            ],
            "type": "histogram2dcontour"
           }
          ],
          "mesh3d": [
           {
            "colorbar": {
             "outlinewidth": 0,
             "ticks": ""
            },
            "type": "mesh3d"
           }
          ],
          "parcoords": [
           {
            "line": {
             "colorbar": {
              "outlinewidth": 0,
              "ticks": ""
             }
            },
            "type": "parcoords"
           }
          ],
          "pie": [
           {
            "automargin": true,
            "type": "pie"
           }
          ],
          "scatter": [
           {
            "fillpattern": {
             "fillmode": "overlay",
             "size": 10,
             "solidity": 0.2
            },
            "type": "scatter"
           }
          ],
          "scatter3d": [
           {
            "line": {
             "colorbar": {
              "outlinewidth": 0,
              "ticks": ""
             }
            },
            "marker": {
             "colorbar": {
              "outlinewidth": 0,
              "ticks": ""
             }
            },
            "type": "scatter3d"
           }
          ],
          "scattercarpet": [
           {
            "marker": {
             "colorbar": {
              "outlinewidth": 0,
              "ticks": ""
             }
            },
            "type": "scattercarpet"
           }
          ],
          "scattergeo": [
           {
            "marker": {
             "colorbar": {
              "outlinewidth": 0,
              "ticks": ""
             }
            },
            "type": "scattergeo"
           }
          ],
          "scattergl": [
           {
            "marker": {
             "colorbar": {
              "outlinewidth": 0,
              "ticks": ""
             }
            },
            "type": "scattergl"
           }
          ],
          "scattermap": [
           {
            "marker": {
             "colorbar": {
              "outlinewidth": 0,
              "ticks": ""
             }
            },
            "type": "scattermap"
           }
          ],
          "scattermapbox": [
           {
            "marker": {
             "colorbar": {
              "outlinewidth": 0,
              "ticks": ""
             }
            },
            "type": "scattermapbox"
           }
          ],
          "scatterpolar": [
           {
            "marker": {
             "colorbar": {
              "outlinewidth": 0,
              "ticks": ""
             }
            },
            "type": "scatterpolar"
           }
          ],
          "scatterpolargl": [
           {
            "marker": {
             "colorbar": {
              "outlinewidth": 0,
              "ticks": ""
             }
            },
            "type": "scatterpolargl"
           }
          ],
          "scatterternary": [
           {
            "marker": {
             "colorbar": {
              "outlinewidth": 0,
              "ticks": ""
             }
            },
            "type": "scatterternary"
           }
          ],
          "surface": [
           {
            "colorbar": {
             "outlinewidth": 0,
             "ticks": ""
            },
            "colorscale": [
             [
              0,
              "#0d0887"
             ],
             [
              0.1111111111111111,
              "#46039f"
             ],
             [
              0.2222222222222222,
              "#7201a8"
             ],
             [
              0.3333333333333333,
              "#9c179e"
             ],
             [
              0.4444444444444444,
              "#bd3786"
             ],
             [
              0.5555555555555556,
              "#d8576b"
             ],
             [
              0.6666666666666666,
              "#ed7953"
             ],
             [
              0.7777777777777778,
              "#fb9f3a"
             ],
             [
              0.8888888888888888,
              "#fdca26"
             ],
             [
              1,
              "#f0f921"
             ]
            ],
            "type": "surface"
           }
          ],
          "table": [
           {
            "cells": {
             "fill": {
              "color": "#EBF0F8"
             },
             "line": {
              "color": "white"
             }
            },
            "header": {
             "fill": {
              "color": "#C8D4E3"
             },
             "line": {
              "color": "white"
             }
            },
            "type": "table"
           }
          ]
         },
         "layout": {
          "annotationdefaults": {
           "arrowcolor": "#2a3f5f",
           "arrowhead": 0,
           "arrowwidth": 1
          },
          "autotypenumbers": "strict",
          "coloraxis": {
           "colorbar": {
            "outlinewidth": 0,
            "ticks": ""
           }
          },
          "colorscale": {
           "diverging": [
            [
             0,
             "#8e0152"
            ],
            [
             0.1,
             "#c51b7d"
            ],
            [
             0.2,
             "#de77ae"
            ],
            [
             0.3,
             "#f1b6da"
            ],
            [
             0.4,
             "#fde0ef"
            ],
            [
             0.5,
             "#f7f7f7"
            ],
            [
             0.6,
             "#e6f5d0"
            ],
            [
             0.7,
             "#b8e186"
            ],
            [
             0.8,
             "#7fbc41"
            ],
            [
             0.9,
             "#4d9221"
            ],
            [
             1,
             "#276419"
            ]
           ],
           "sequential": [
            [
             0,
             "#0d0887"
            ],
            [
             0.1111111111111111,
             "#46039f"
            ],
            [
             0.2222222222222222,
             "#7201a8"
            ],
            [
             0.3333333333333333,
             "#9c179e"
            ],
            [
             0.4444444444444444,
             "#bd3786"
            ],
            [
             0.5555555555555556,
             "#d8576b"
            ],
            [
             0.6666666666666666,
             "#ed7953"
            ],
            [
             0.7777777777777778,
             "#fb9f3a"
            ],
            [
             0.8888888888888888,
             "#fdca26"
            ],
            [
             1,
             "#f0f921"
            ]
           ],
           "sequentialminus": [
            [
             0,
             "#0d0887"
            ],
            [
             0.1111111111111111,
             "#46039f"
            ],
            [
             0.2222222222222222,
             "#7201a8"
            ],
            [
             0.3333333333333333,
             "#9c179e"
            ],
            [
             0.4444444444444444,
             "#bd3786"
            ],
            [
             0.5555555555555556,
             "#d8576b"
            ],
            [
             0.6666666666666666,
             "#ed7953"
            ],
            [
             0.7777777777777778,
             "#fb9f3a"
            ],
            [
             0.8888888888888888,
             "#fdca26"
            ],
            [
             1,
             "#f0f921"
            ]
           ]
          },
          "colorway": [
           "#636efa",
           "#EF553B",
           "#00cc96",
           "#ab63fa",
           "#FFA15A",
           "#19d3f3",
           "#FF6692",
           "#B6E880",
           "#FF97FF",
           "#FECB52"
          ],
          "font": {
           "color": "#2a3f5f"
          },
          "geo": {
           "bgcolor": "white",
           "lakecolor": "white",
           "landcolor": "#E5ECF6",
           "showlakes": true,
           "showland": true,
           "subunitcolor": "white"
          },
          "hoverlabel": {
           "align": "left"
          },
          "hovermode": "closest",
          "mapbox": {
           "style": "light"
          },
          "paper_bgcolor": "white",
          "plot_bgcolor": "#E5ECF6",
          "polar": {
           "angularaxis": {
            "gridcolor": "white",
            "linecolor": "white",
            "ticks": ""
           },
           "bgcolor": "#E5ECF6",
           "radialaxis": {
            "gridcolor": "white",
            "linecolor": "white",
            "ticks": ""
           }
          },
          "scene": {
           "xaxis": {
            "backgroundcolor": "#E5ECF6",
            "gridcolor": "white",
            "gridwidth": 2,
            "linecolor": "white",
            "showbackground": true,
            "ticks": "",
            "zerolinecolor": "white"
           },
           "yaxis": {
            "backgroundcolor": "#E5ECF6",
            "gridcolor": "white",
            "gridwidth": 2,
            "linecolor": "white",
            "showbackground": true,
            "ticks": "",
            "zerolinecolor": "white"
           },
           "zaxis": {
            "backgroundcolor": "#E5ECF6",
            "gridcolor": "white",
            "gridwidth": 2,
            "linecolor": "white",
            "showbackground": true,
            "ticks": "",
            "zerolinecolor": "white"
           }
          },
          "shapedefaults": {
           "line": {
            "color": "#2a3f5f"
           }
          },
          "ternary": {
           "aaxis": {
            "gridcolor": "white",
            "linecolor": "white",
            "ticks": ""
           },
           "baxis": {
            "gridcolor": "white",
            "linecolor": "white",
            "ticks": ""
           },
           "bgcolor": "#E5ECF6",
           "caxis": {
            "gridcolor": "white",
            "linecolor": "white",
            "ticks": ""
           }
          },
          "title": {
           "x": 0.05
          },
          "xaxis": {
           "automargin": true,
           "gridcolor": "white",
           "linecolor": "white",
           "ticks": "",
           "title": {
            "standoff": 15
           },
           "zerolinecolor": "white",
           "zerolinewidth": 2
          },
          "yaxis": {
           "automargin": true,
           "gridcolor": "white",
           "linecolor": "white",
           "ticks": "",
           "title": {
            "standoff": 15
           },
           "zerolinecolor": "white",
           "zerolinewidth": 2
          }
         }
        }
       }
      }
     },
     "metadata": {},
     "output_type": "display_data"
    }
   ],
   "source": [
    "import plotly.express as px\n",
    "fig = px.scatter_3d(dataframe, x = 'Age', y = 'Annual Income', z = 'Spending Score')\n",
    "fig.show()"
   ]
  },
  {
   "cell_type": "markdown",
   "metadata": {},
   "source": [
    "## K-Means\n",
    "Obtengamos el número óptimo de clusters haciendo uso del método del codo."
   ]
  },
  {
   "cell_type": "code",
   "execution_count": 145,
   "metadata": {},
   "outputs": [
    {
     "data": {
      "text/plain": [
       "[<matplotlib.lines.Line2D at 0x7dd3290ee7b0>]"
      ]
     },
     "execution_count": 145,
     "metadata": {},
     "output_type": "execute_result"
    },
    {
     "data": {
      "image/png": "[encoded data removed]",
      "text/plain": [
       "<Figure size 1600x900 with 1 Axes>"
      ]
     },
     "metadata": {},
     "output_type": "display_data"
    }
   ],
   "source": [
    "# Definimos el rango donde vamos a probar el algoritmo K-Means\n",
    "clusters = range(1, 20)\n",
    "kmeans = [KMeans(n_clusters = cluster) for cluster in clusters]\n",
    "score = [kmeans[cluster].fit(dataframe).score(dataframe) for cluster in range(len(kmeans))]\n",
    "# Mostramos 'el codo'\n",
    "plt.plot(clusters, score)"
   ]
  },
  {
   "cell_type": "markdown",
   "metadata": {},
   "source": [
    "En el gráfico del codo, podemos observar que el número óptimo de clusters es 6. Por tanto hagamos uso de este valor para realizar el agrupamiento usando el algoritmo de K-Means, y obteniendo los centroides de los clusters."
   ]
  },
  {
   "cell_type": "code",
   "execution_count": 153,
   "metadata": {},
   "outputs": [
    {
     "name": "stdout",
     "output_type": "stream",
     "text": [
      "[[-0.41878423  2.0618641   1.09313407]\n",
      " [-0.97195688 -1.32621729  1.12934389]\n",
      " [ 1.19562713 -0.45982751 -0.32621956]\n",
      " [ 0.22116059  1.08051381 -1.28682305]\n",
      " [-0.42963075  0.7413101   1.23847625]\n",
      " [-0.81175143 -0.39800982 -0.2549218 ]]\n"
     ]
    }
   ],
   "source": [
    "kmeans = KMeans(n_clusters = 6).fit(dataframe)\n",
    "centroids = kmeans.cluster_centers_\n",
    "print(centroids)"
   ]
  },
  {
   "cell_type": "markdown",
   "metadata": {},
   "source": [
    "Deshacemos la estandarización de los datos para poder visualizar los clusters en un gráfico 3D."
   ]
  },
  {
   "cell_type": "code",
   "execution_count": 154,
   "metadata": {},
   "outputs": [
    {
     "name": "stdout",
     "output_type": "stream",
     "text": [
      "Age                33.000000\n",
      "Annual Income     114.714286\n",
      "Spending Score     78.428571\n",
      "dtype: float64\n",
      "Age               25.272727\n",
      "Annual Income     25.727273\n",
      "Spending Score    79.363636\n",
      "dtype: float64\n",
      "Age               55.551724\n",
      "Annual Income     48.482759\n",
      "Spending Score    41.775862\n",
      "dtype: float64\n",
      "Age               41.939394\n",
      "Annual Income     88.939394\n",
      "Spending Score    16.969697\n",
      "dtype: float64\n",
      "Age               32.848485\n",
      "Annual Income     80.030303\n",
      "Spending Score    82.181818\n",
      "dtype: float64\n",
      "Age               27.510638\n",
      "Annual Income     50.106383\n",
      "Spending Score    43.617021\n",
      "dtype: float64\n"
     ]
    }
   ],
   "source": [
    "for centroid in centroids:\n",
    "  print(centroid * dataframe_std + dataframe_mean)"
   ]
  },
  {
   "cell_type": "code",
   "execution_count": 290,
   "metadata": {},
   "outputs": [
    {
     "data": {
      "application/vnd.plotly.v1+json": {
       "config": {
        "plotlyServerURL": "https://plot.ly"
       },
       "data": [
        {
         "marker": {
          "color": "green",
          "size": 2.5
         },
         "mode": "markers",
         "name": "Cluster 3",
         "type": "scatter3d",
         "x": {
          "bdata": "ExUXFhceIxgWFCMZHx0jFxUSFR4UGBg=",
          "dtype": "i1"
         },
         "y": {
          "bdata": "Dw8QERITExQUFRcYGRwcHR4hISIlJic=",
          "dtype": "i1"
         },
         "z": {
          "bdata": "J1FNTF5IY01PQmJJSVI9V0lcUUlLXEE=",
          "dtype": "i1"
         }
        },
        {
         "marker": {
          "color": "cyan",
          "size": 2.5
         },
         "mode": "markers",
         "name": "Cluster 4",
         "type": "scatter3d",
         "x": {
          "bdata": "FB8jQEM6JSM0Iy42LSg8NTEqJEEwMTIxOzIvM0U1RkM2P0RGLzw8OzE5Q0RDQkRCQT8=",
          "dtype": "i1"
         },
         "y": {
          "bdata": "EBESExMUFBUXGBkcHB0eISEiJSYnJygqKysrLCwuLi8vMDAxMTIyNjY2Njs+Pz8/P0E=",
          "dtype": "i1"
         },
         "z": {
          "bdata": "BigGAw4PDSMdIwUOIB8EBA4RGiMkHDc0PC0pMi4uODQ7MzA3KjE4LyozKTc7MiswNCs=",
          "dtype": "i1"
         }
        },
        {
         "marker": {
          "color": "blue",
          "size": 2.5
         },
         "mode": "markers",
         "name": "Cluster 1",
         "type": "scatter3d",
         "x": {
          "bdata": "HxsdHyEfGxMSKxMgGi0oFyYuFTA3FiIyEjAoIBgvGzAUFzEaMRU2EyYTEhMxMzIbJigrGRw=",
          "dtype": "i1"
         },
         "y": {
          "bdata": "JygoKCorLi4wMDAwNjY2NjY2NjY5OTo6Ozw8PDw8PD09Pj4+Pj4/P0BAQUFBQ0NDQ0VHSEw=",
          "dtype": "i1"
         },
         "z": {
          "bdata": "PS8qKjw2Mzc7MjsvNjUwNDcsOS46NzwuKTEoKjQvMioxKTA3OCouNiouMDI7Kzk4KDojIig=",
          "dtype": "i1"
         }
        },
        {
         "marker": {
          "color": "yellow",
          "size": 2.5
         },
         "mode": "markers",
         "name": "Cluster 6",
         "type": "scatter3d",
         "x": {
          "bdata": "Jx8oJicfHSAjICAcICInJhseHh0fJCEgHCQeGyMgHR4cJCAmIyAe",
          "dtype": "i1"
         },
         "y": {
          "bdata": "RQBGAEcARwBHAEgASQBJAEoASwBMAE0ATQBOAE4ATgBOAE4ATgBPAFEAVQBWAFcAVwBXAFgAWABdAGEAYgBjAGUAZwBnAHEAeAB+AIkA",
          "dtype": "i2"
         },
         "z": {
          "bdata": "W01fS0tHWElIXVdhSlpYTFlOSVNdS18/S1xWRVpWWGFEVUVbT0pT",
          "dtype": "i1"
         }
        },
        {
         "marker": {
          "color": "red",
          "size": 2.5
         },
         "mode": "markers",
         "name": "Cluster 2",
         "type": "scatter3d",
         "x": {
          "bdata": "FzsvFCwTORkiKywvJSITKCQ=",
          "dtype": "i1"
         },
         "y": {
          "bdata": "RkdHSUlKS01OTk5OTk5RV1c=",
          "dtype": "i1"
         },
         "z": {
          "bdata": "HQsJBQcKBQwWERQQAQEFDQo=",
          "dtype": "i1"
         }
        },
        {
         "marker": {
          "color": "magenta",
          "size": 2.5
         },
         "mode": "markers",
         "name": "Cluster 5",
         "type": "scatter3d",
         "x": {
          "bdata": "MDgyKiQ0OjslLik2KSIhLy0g",
          "dtype": "i1"
         },
         "y": {
          "bdata": "TQBPAFUAVgBXAFgAWABdAGEAYgBjAGUAZwBnAHEAeAB+AIkA",
          "dtype": "i2"
         },
         "z": {
          "bdata": "JCMaFBsNDw4gDycYERcIEBwS",
          "dtype": "i1"
         }
        }
       ],
       "layout": {
        "template": {
         "data": {
          "bar": [
           {
            "error_x": {
             "color": "#2a3f5f"
            },
            "error_y": {
             "color": "#2a3f5f"
            },
            "marker": {
             "line": {
              "color": "#E5ECF6",
              "width": 0.5
             },
             "pattern": {
              "fillmode": "overlay",
              "size": 10,
              "solidity": 0.2
             }
            },
            "type": "bar"
           }
          ],
          "barpolar": [
           {
            "marker": {
             "line": {
              "color": "#E5ECF6",
              "width": 0.5
             },
             "pattern": {
              "fillmode": "overlay",
              "size": 10,
              "solidity": 0.2
             }
            },
            "type": "barpolar"
           }
          ],
          "carpet": [
           {
            "aaxis": {
             "endlinecolor": "#2a3f5f",
             "gridcolor": "white",
             "linecolor": "white",
             "minorgridcolor": "white",
             "startlinecolor": "#2a3f5f"
            },
            "baxis": {
             "endlinecolor": "#2a3f5f",
             "gridcolor": "white",
             "linecolor": "white",
             "minorgridcolor": "white",
             "startlinecolor": "#2a3f5f"
            },
            "type": "carpet"
           }
          ],
          "choropleth": [
           {
            "colorbar": {
             "outlinewidth": 0,
             "ticks": ""
            },
            "type": "choropleth"
           }
          ],
          "contour": [
           {
            "colorbar": {
             "outlinewidth": 0,
             "ticks": ""
            },
            "colorscale": [
             [
              0,
              "#0d0887"
             ],
             [
              0.1111111111111111,
              "#46039f"
             ],
             [
              0.2222222222222222,
              "#7201a8"
             ],
             [
              0.3333333333333333,
              "#9c179e"
             ],
             [
              0.4444444444444444,
              "#bd3786"
             ],
             [
              0.5555555555555556,
              "#d8576b"
             ],
             [
              0.6666666666666666,
              "#ed7953"
             ],
             [
              0.7777777777777778,
              "#fb9f3a"
             ],
             [
              0.8888888888888888,
              "#fdca26"
             ],
             [
              1,
              "#f0f921"
             ]
            ],
            "type": "contour"
           }
          ],
          "contourcarpet": [
           {
            "colorbar": {
             "outlinewidth": 0,
             "ticks": ""
            },
            "type": "contourcarpet"
           }
          ],
          "heatmap": [
           {
            "colorbar": {
             "outlinewidth": 0,
             "ticks": ""
            },
            "colorscale": [
             [
              0,
              "#0d0887"
             ],
             [
              0.1111111111111111,
              "#46039f"
             ],
             [
              0.2222222222222222,
              "#7201a8"
             ],
             [
              0.3333333333333333,
              "#9c179e"
             ],
             [
              0.4444444444444444,
              "#bd3786"
             ],
             [
              0.5555555555555556,
              "#d8576b"
             ],
             [
              0.6666666666666666,
              "#ed7953"
             ],
             [
              0.7777777777777778,
              "#fb9f3a"
             ],
             [
              0.8888888888888888,
              "#fdca26"
             ],
             [
              1,
              "#f0f921"
             ]
            ],
            "type": "heatmap"
           }
          ],
          "histogram": [
           {
            "marker": {
             "pattern": {
              "fillmode": "overlay",
              "size": 10,
              "solidity": 0.2
             }
            },
            "type": "histogram"
           }
          ],
          "histogram2d": [
           {
            "colorbar": {
             "outlinewidth": 0,
             "ticks": ""
            },
            "colorscale": [
             [
              0,
              "#0d0887"
             ],
             [
              0.1111111111111111,
              "#46039f"
             ],
             [
              0.2222222222222222,
              "#7201a8"
             ],
             [
              0.3333333333333333,
              "#9c179e"
             ],
             [
              0.4444444444444444,
              "#bd3786"
             ],
             [
              0.5555555555555556,
              "#d8576b"
             ],
             [
              0.6666666666666666,
              "#ed7953"
             ],
             [
              0.7777777777777778,
              "#fb9f3a"
             ],
             [
              0.8888888888888888,
              "#fdca26"
             ],
             [
              1,
              "#f0f921"
             ]
            ],
            "type": "histogram2d"
           }
          ],
          "histogram2dcontour": [
           {
            "colorbar": {
             "outlinewidth": 0,
             "ticks": ""
            },
            "colorscale": [
             [
              0,
              "#0d0887"
             ],
             [
              0.1111111111111111,
              "#46039f"
             ],
             [
              0.2222222222222222,
              "#7201a8"
             ],
             [
              0.3333333333333333,
              "#9c179e"
             ],
             [
              0.4444444444444444,
              "#bd3786"
             ],
             [
              0.5555555555555556,
              "#d8576b"
             ],
             [
              0.6666666666666666,
              "#ed7953"
             ],
             [
              0.7777777777777778,
              "#fb9f3a"
             ],
             [
              0.8888888888888888,
              "#fdca26"
             ],
             [
              1,
              "#f0f921"
             ]
            ],
            "type": "histogram2dcontour"
           }
          ],
          "mesh3d": [
           {
            "colorbar": {
             "outlinewidth": 0,
             "ticks": ""
            },
            "type": "mesh3d"
           }
          ],
          "parcoords": [
           {
            "line": {
             "colorbar": {
              "outlinewidth": 0,
              "ticks": ""
             }
            },
            "type": "parcoords"
           }
          ],
          "pie": [
           {
            "automargin": true,
            "type": "pie"
           }
          ],
          "scatter": [
           {
            "fillpattern": {
             "fillmode": "overlay",
             "size": 10,
             "solidity": 0.2
            },
            "type": "scatter"
           }
          ],
          "scatter3d": [
           {
            "line": {
             "colorbar": {
              "outlinewidth": 0,
              "ticks": ""
             }
            },
            "marker": {
             "colorbar": {
              "outlinewidth": 0,
              "ticks": ""
             }
            },
            "type": "scatter3d"
           }
          ],
          "scattercarpet": [
           {
            "marker": {
             "colorbar": {
              "outlinewidth": 0,
              "ticks": ""
             }
            },
            "type": "scattercarpet"
           }
          ],
          "scattergeo": [
           {
            "marker": {
             "colorbar": {
              "outlinewidth": 0,
              "ticks": ""
             }
            },
            "type": "scattergeo"
           }
          ],
          "scattergl": [
           {
            "marker": {
             "colorbar": {
              "outlinewidth": 0,
              "ticks": ""
             }
            },
            "type": "scattergl"
           }
          ],
          "scattermap": [
           {
            "marker": {
             "colorbar": {
              "outlinewidth": 0,
              "ticks": ""
             }
            },
            "type": "scattermap"
           }
          ],
          "scattermapbox": [
           {
            "marker": {
             "colorbar": {
              "outlinewidth": 0,
              "ticks": ""
             }
            },
            "type": "scattermapbox"
           }
          ],
          "scatterpolar": [
           {
            "marker": {
             "colorbar": {
              "outlinewidth": 0,
              "ticks": ""
             }
            },
            "type": "scatterpolar"
           }
          ],
          "scatterpolargl": [
           {
            "marker": {
             "colorbar": {
              "outlinewidth": 0,
              "ticks": ""
             }
            },
            "type": "scatterpolargl"
           }
          ],
          "scatterternary": [
           {
            "marker": {
             "colorbar": {
              "outlinewidth": 0,
              "ticks": ""
             }
            },
            "type": "scatterternary"
           }
          ],
          "surface": [
           {
            "colorbar": {
             "outlinewidth": 0,
             "ticks": ""
            },
            "colorscale": [
             [
              0,
              "#0d0887"
             ],
             [
              0.1111111111111111,
              "#46039f"
             ],
             [
              0.2222222222222222,
              "#7201a8"
             ],
             [
              0.3333333333333333,
              "#9c179e"
             ],
             [
              0.4444444444444444,
              "#bd3786"
             ],
             [
              0.5555555555555556,
              "#d8576b"
             ],
             [
              0.6666666666666666,
              "#ed7953"
             ],
             [
              0.7777777777777778,
              "#fb9f3a"
             ],
             [
              0.8888888888888888,
              "#fdca26"
             ],
             [
              1,
              "#f0f921"
             ]
            ],
            "type": "surface"
           }
          ],
          "table": [
           {
            "cells": {
             "fill": {
              "color": "#EBF0F8"
             },
             "line": {
              "color": "white"
             }
            },
            "header": {
             "fill": {
              "color": "#C8D4E3"
             },
             "line": {
              "color": "white"
             }
            },
            "type": "table"
           }
          ]
         },
         "layout": {
          "annotationdefaults": {
           "arrowcolor": "#2a3f5f",
           "arrowhead": 0,
           "arrowwidth": 1
          },
          "autotypenumbers": "strict",
          "coloraxis": {
           "colorbar": {
            "outlinewidth": 0,
            "ticks": ""
           }
          },
          "colorscale": {
           "diverging": [
            [
             0,
             "#8e0152"
            ],
            [
             0.1,
             "#c51b7d"
            ],
            [
             0.2,
             "#de77ae"
            ],
            [
             0.3,
             "#f1b6da"
            ],
            [
             0.4,
             "#fde0ef"
            ],
            [
             0.5,
             "#f7f7f7"
            ],
            [
             0.6,
             "#e6f5d0"
            ],
            [
             0.7,
             "#b8e186"
            ],
            [
             0.8,
             "#7fbc41"
            ],
            [
             0.9,
             "#4d9221"
            ],
            [
             1,
             "#276419"
            ]
           ],
           "sequential": [
            [
             0,
             "#0d0887"
            ],
            [
             0.1111111111111111,
             "#46039f"
            ],
            [
             0.2222222222222222,
             "#7201a8"
            ],
            [
             0.3333333333333333,
             "#9c179e"
            ],
            [
             0.4444444444444444,
             "#bd3786"
            ],
            [
             0.5555555555555556,
             "#d8576b"
            ],
            [
             0.6666666666666666,
             "#ed7953"
            ],
            [
             0.7777777777777778,
             "#fb9f3a"
            ],
            [
             0.8888888888888888,
             "#fdca26"
            ],
            [
             1,
             "#f0f921"
            ]
           ],
           "sequentialminus": [
            [
             0,
             "#0d0887"
            ],
            [
             0.1111111111111111,
             "#46039f"
            ],
            [
             0.2222222222222222,
             "#7201a8"
            ],
            [
             0.3333333333333333,
             "#9c179e"
            ],
            [
             0.4444444444444444,
             "#bd3786"
            ],
            [
             0.5555555555555556,
             "#d8576b"
            ],
            [
             0.6666666666666666,
             "#ed7953"
            ],
            [
             0.7777777777777778,
             "#fb9f3a"
            ],
            [
             0.8888888888888888,
             "#fdca26"
            ],
            [
             1,
             "#f0f921"
            ]
           ]
          },
          "colorway": [
           "#636efa",
           "#EF553B",
           "#00cc96",
           "#ab63fa",
           "#FFA15A",
           "#19d3f3",
           "#FF6692",
           "#B6E880",
           "#FF97FF",
           "#FECB52"
          ],
          "font": {
           "color": "#2a3f5f"
          },
          "geo": {
           "bgcolor": "white",
           "lakecolor": "white",
           "landcolor": "#E5ECF6",
           "showlakes": true,
           "showland": true,
           "subunitcolor": "white"
          },
          "hoverlabel": {
           "align": "left"
          },
          "hovermode": "closest",
          "mapbox": {
           "style": "light"
          },
          "paper_bgcolor": "white",
          "plot_bgcolor": "#E5ECF6",
          "polar": {
           "angularaxis": {
            "gridcolor": "white",
            "linecolor": "white",
            "ticks": ""
           },
           "bgcolor": "#E5ECF6",
           "radialaxis": {
            "gridcolor": "white",
            "linecolor": "white",
            "ticks": ""
           }
          },
          "scene": {
           "xaxis": {
            "backgroundcolor": "#E5ECF6",
            "gridcolor": "white",
            "gridwidth": 2,
            "linecolor": "white",
            "showbackground": true,
            "ticks": "",
            "zerolinecolor": "white"
           },
           "yaxis": {
            "backgroundcolor": "#E5ECF6",
            "gridcolor": "white",
            "gridwidth": 2,
            "linecolor": "white",
            "showbackground": true,
            "ticks": "",
            "zerolinecolor": "white"
           },
           "zaxis": {
            "backgroundcolor": "#E5ECF6",
            "gridcolor": "white",
            "gridwidth": 2,
            "linecolor": "white",
            "showbackground": true,
            "ticks": "",
            "zerolinecolor": "white"
           }
          },
          "shapedefaults": {
           "line": {
            "color": "#2a3f5f"
           }
          },
          "ternary": {
           "aaxis": {
            "gridcolor": "white",
            "linecolor": "white",
            "ticks": ""
           },
           "baxis": {
            "gridcolor": "white",
            "linecolor": "white",
            "ticks": ""
           },
           "bgcolor": "#E5ECF6",
           "caxis": {
            "gridcolor": "white",
            "linecolor": "white",
            "ticks": ""
           }
          },
          "title": {
           "x": 0.05
          },
          "xaxis": {
           "automargin": true,
           "gridcolor": "white",
           "linecolor": "white",
           "ticks": "",
           "title": {
            "standoff": 15
           },
           "zerolinecolor": "white",
           "zerolinewidth": 2
          },
          "yaxis": {
           "automargin": true,
           "gridcolor": "white",
           "linecolor": "white",
           "ticks": "",
           "title": {
            "standoff": 15
           },
           "zerolinecolor": "white",
           "zerolinewidth": 2
          }
         }
        }
       }
      }
     },
     "metadata": {},
     "output_type": "display_data"
    }
   ],
   "source": [
    "import plotly.graph_objects as go\n",
    "\n",
    "dataframe['ClusterKMeans'] = kmeans.fit_predict(dataframe[['Age', 'Annual Income', 'Spending Score']])\n",
    "\n",
    "# Definimos una lista de colores para los clusters\n",
    "colours = ['blue', 'red', 'green', 'cyan', 'magenta', 'yellow']\n",
    "\n",
    "figure = go.Figure()\n",
    "\n",
    "for cluster in dataframe['ClusterKMeans'].unique():\n",
    "  dataframe_cluster = dataframe[dataframe['ClusterKMeans'] == cluster]\n",
    "  figure.add_trace(go.Scatter3d(\n",
    "    x = dataframe_cluster['Age'], \n",
    "    y = dataframe_cluster['Annual Income'], \n",
    "    z = dataframe_cluster['Spending Score'], \n",
    "    mode = 'markers',\n",
    "    marker = dict(size = 2.5, color = colours[cluster]),\n",
    "    name = 'Cluster ' + str(cluster + 1)\n",
    "  ))\n",
    "\n",
    "figure.show()"
   ]
  },
  {
   "cell_type": "markdown",
   "metadata": {},
   "source": [
    "## Dendogramas"
   ]
  },
  {
   "cell_type": "markdown",
   "metadata": {},
   "source": [
    "A continuación realizamos dendogramas de distintos métodos de agrupamiento jerárquico, para ver si podemos obtener alguna información adicional."
   ]
  },
  {
   "cell_type": "markdown",
   "metadata": {},
   "source": [
    "### Método single"
   ]
  },
  {
   "cell_type": "markdown",
   "metadata": {},
   "source": [
    "En este primer dendograma, lo haremos usando el método single."
   ]
  },
  {
   "cell_type": "code",
   "execution_count": 197,
   "metadata": {},
   "outputs": [
    {
     "data": {
      "image/png": "[encoded data removed]",
      "text/plain": [
       "<Figure size 1000x700 with 1 Axes>"
      ]
     },
     "metadata": {},
     "output_type": "display_data"
    }
   ],
   "source": [
    "from scipy.cluster.hierarchy import linkage, dendrogram\n",
    "import matplotlib.pyplot as plt\n",
    "\n",
    "linked = linkage(dataframe, 'single')\n",
    "\n",
    "plt.figure(figsize = (10, 7))\n",
    "dendrogram(linked,\n",
    "           orientation = 'top',\n",
    "           labels = dataframe.index,\n",
    "           distance_sort = 'descending',\n",
    "           show_leaf_counts = True,\n",
    "           color_threshold = 1)\n",
    "\n",
    "plt.show()"
   ]
  },
  {
   "cell_type": "markdown",
   "metadata": {},
   "source": [
    "Para ver si la calidad del dendrograma es buena, vamos a calcular el coeficiente de correlación de Cophenetic."
   ]
  },
  {
   "cell_type": "code",
   "execution_count": 198,
   "metadata": {},
   "outputs": [
    {
     "name": "stdout",
     "output_type": "stream",
     "text": [
      "0.8161318279815363\n"
     ]
    }
   ],
   "source": [
    "from scipy.cluster.hierarchy import cophenet\n",
    "from scipy.spatial.distance import pdist\n",
    "\n",
    "cophonetic_coefficient, cophenetic_distances = cophenet(linked, pdist(dataframe))\n",
    "\n",
    "print(cophonetic_coefficient)"
   ]
  },
  {
   "cell_type": "markdown",
   "metadata": {},
   "source": [
    "Como vemos obtenemos un coeficiente de correlación de 0.81, lo que indica que la calidad del dendrograma es buena."
   ]
  },
  {
   "cell_type": "code",
   "execution_count": 289,
   "metadata": {},
   "outputs": [
    {
     "data": {
      "application/vnd.plotly.v1+json": {
       "config": {
        "plotlyServerURL": "https://plot.ly"
       },
       "data": [
        {
         "marker": {
          "color": "red",
          "size": 2.5
         },
         "mode": "markers",
         "name": "Cluster 1",
         "type": "scatter3d",
         "x": {
          "bdata": "ExUXFhceIxgWFCMZHx0jFxUSFR4UGBg=",
          "dtype": "i1"
         },
         "y": {
          "bdata": "Dw8QERITExQUFRcYGRwcHR4hISIlJic=",
          "dtype": "i1"
         },
         "z": {
          "bdata": "J1FNTF5IY01PQmJJSVI9V0lcUUlLXEE=",
          "dtype": "i1"
         }
        },
        {
         "marker": {
          "color": "green",
          "size": 2.5
         },
         "mode": "markers",
         "name": "Cluster 2",
         "type": "scatter3d",
         "x": {
          "bdata": "FB8jQEM6JSM0Iy42LSg8NTEqJDAx",
          "dtype": "i1"
         },
         "y": {
          "bdata": "EBESExMUFBUXGBkcHB0eISEiJScn",
          "dtype": "i1"
         },
         "z": {
          "bdata": "BigGAw4PDSMdIwUOIB8EBA4RGiQc",
          "dtype": "i1"
         }
        },
        {
         "marker": {
          "color": "blue",
          "size": 2.5
         },
         "mode": "markers",
         "name": "Cluster 6",
         "type": "scatter3d",
         "x": {
          "bdata": "QTIxOzIvM0U1RkM2PytERi88PDstMTlDLjA3MkQwLzAxQzFCNkRCQT8xMzI4",
          "dtype": "i1"
         },
         "y": {
          "bdata": "JigqKysrLCwuLi8vMDAwMTEyMjY2NjY2NjY5Ojs8PD0+Pj4/Pz8/P0FBQ0NP",
          "dtype": "i1"
         },
         "z": {
          "bdata": "Izc0PC0pMi4uODQ7MzIwNyoxOC81KjMpLC46LjcxLyowOzgyLiswNCs7Kzkj",
          "dtype": "i1"
         }
        },
        {
         "marker": {
          "color": "cyan",
          "size": 2.5
         },
         "mode": "markers",
         "name": "Cluster 3",
         "type": "scatter3d",
         "x": {
          "bdata": "HxsdHyEfGxMSEyAaKBcmFRYiEiggGBsUFxoVEyYTEhMbJigXGRw=",
          "dtype": "i1"
         },
         "y": {
          "bdata": "JygoKCorLi4wMDA2NjY2Njk6Ozw8PDw9Pj4+P0BAQUFDQ0VGSEw=",
          "dtype": "i1"
         },
         "z": {
          "bdata": "PS8qKjw2Mzc7Oy82MDQ3OTc8KSgqNDIxKTcqNiouMDI4KDodIig=",
          "dtype": "i1"
         }
        },
        {
         "marker": {
          "color": "yellow",
          "size": 2.5
         },
         "mode": "markers",
         "name": "Cluster 5",
         "type": "scatter3d",
         "x": {
          "bdata": "Jx8oJicfHSAjICAcICInJhseHh0fJCEgHCQeGyMgHR4cJCAmIyAe",
          "dtype": "i1"
         },
         "y": {
          "bdata": "RQBGAEcARwBHAEgASQBJAEoASwBMAE0ATQBOAE4ATgBOAE4ATgBPAFEAVQBWAFcAVwBXAFgAWABdAGEAYgBjAGUAZwBnAHEAeAB+AIkA",
          "dtype": "i2"
         },
         "z": {
          "bdata": "W01fS0tHWElIXVdhSlpYTFlOSVNdS18/S1xWRVpWWGFEVUVbT0pT",
          "dtype": "i1"
         }
        },
        {
         "marker": {
          "color": "magenta",
          "size": 2.5
         },
         "mode": "markers",
         "name": "Cluster 4",
         "type": "scatter3d",
         "x": {
          "bdata": "KzsvFCwTORkwIissLyUiEzIqJCgkNDo7JS4pNikiIS8tIA==",
          "dtype": "i1"
         },
         "y": {
          "bdata": "RwBHAEcASQBJAEoASwBNAE0ATgBOAE4ATgBOAE4AUQBVAFYAVwBXAFcAWABYAF0AYQBiAGMAZQBnAGcAcQB4AH4AiQA=",
          "dtype": "i2"
         },
         "z": {
          "bdata": "IwsJBQcKBQwkFhEUEAEBBRoUGw0KDQ8OIA8nGBEXCBAcEg==",
          "dtype": "i1"
         }
        }
       ],
       "layout": {
        "template": {
         "data": {
          "bar": [
           {
            "error_x": {
             "color": "#2a3f5f"
            },
            "error_y": {
             "color": "#2a3f5f"
            },
            "marker": {
             "line": {
              "color": "#E5ECF6",
              "width": 0.5
             },
             "pattern": {
              "fillmode": "overlay",
              "size": 10,
              "solidity": 0.2
             }
            },
            "type": "bar"
           }
          ],
          "barpolar": [
           {
            "marker": {
             "line": {
              "color": "#E5ECF6",
              "width": 0.5
             },
             "pattern": {
              "fillmode": "overlay",
              "size": 10,
              "solidity": 0.2
             }
            },
            "type": "barpolar"
           }
          ],
          "carpet": [
           {
            "aaxis": {
             "endlinecolor": "#2a3f5f",
             "gridcolor": "white",
             "linecolor": "white",
             "minorgridcolor": "white",
             "startlinecolor": "#2a3f5f"
            },
            "baxis": {
             "endlinecolor": "#2a3f5f",
             "gridcolor": "white",
             "linecolor": "white",
             "minorgridcolor": "white",
             "startlinecolor": "#2a3f5f"
            },
            "type": "carpet"
           }
          ],
          "choropleth": [
           {
            "colorbar": {
             "outlinewidth": 0,
             "ticks": ""
            },
            "type": "choropleth"
           }
          ],
          "contour": [
           {
            "colorbar": {
             "outlinewidth": 0,
             "ticks": ""
            },
            "colorscale": [
             [
              0,
              "#0d0887"
             ],
             [
              0.1111111111111111,
              "#46039f"
             ],
             [
              0.2222222222222222,
              "#7201a8"
             ],
             [
              0.3333333333333333,
              "#9c179e"
             ],
             [
              0.4444444444444444,
              "#bd3786"
             ],
             [
              0.5555555555555556,
              "#d8576b"
             ],
             [
              0.6666666666666666,
              "#ed7953"
             ],
             [
              0.7777777777777778,
              "#fb9f3a"
             ],
             [
              0.8888888888888888,
              "#fdca26"
             ],
             [
              1,
              "#f0f921"
             ]
            ],
            "type": "contour"
           }
          ],
          "contourcarpet": [
           {
            "colorbar": {
             "outlinewidth": 0,
             "ticks": ""
            },
            "type": "contourcarpet"
           }
          ],
          "heatmap": [
           {
            "colorbar": {
             "outlinewidth": 0,
             "ticks": ""
            },
            "colorscale": [
             [
              0,
              "#0d0887"
             ],
             [
              0.1111111111111111,
              "#46039f"
             ],
             [
              0.2222222222222222,
              "#7201a8"
             ],
             [
              0.3333333333333333,
              "#9c179e"
             ],
             [
              0.4444444444444444,
              "#bd3786"
             ],
             [
              0.5555555555555556,
              "#d8576b"
             ],
             [
              0.6666666666666666,
              "#ed7953"
             ],
             [
              0.7777777777777778,
              "#fb9f3a"
             ],
             [
              0.8888888888888888,
              "#fdca26"
             ],
             [
              1,
              "#f0f921"
             ]
            ],
            "type": "heatmap"
           }
          ],
          "histogram": [
           {
            "marker": {
             "pattern": {
              "fillmode": "overlay",
              "size": 10,
              "solidity": 0.2
             }
            },
            "type": "histogram"
           }
          ],
          "histogram2d": [
           {
            "colorbar": {
             "outlinewidth": 0,
             "ticks": ""
            },
            "colorscale": [
             [
              0,
              "#0d0887"
             ],
             [
              0.1111111111111111,
              "#46039f"
             ],
             [
              0.2222222222222222,
              "#7201a8"
             ],
             [
              0.3333333333333333,
              "#9c179e"
             ],
             [
              0.4444444444444444,
              "#bd3786"
             ],
             [
              0.5555555555555556,
              "#d8576b"
             ],
             [
              0.6666666666666666,
              "#ed7953"
             ],
             [
              0.7777777777777778,
              "#fb9f3a"
             ],
             [
              0.8888888888888888,
              "#fdca26"
             ],
             [
              1,
              "#f0f921"
             ]
            ],
            "type": "histogram2d"
           }
          ],
          "histogram2dcontour": [
           {
            "colorbar": {
             "outlinewidth": 0,
             "ticks": ""
            },
            "colorscale": [
             [
              0,
              "#0d0887"
             ],
             [
              0.1111111111111111,
              "#46039f"
             ],
             [
              0.2222222222222222,
              "#7201a8"
             ],
             [
              0.3333333333333333,
              "#9c179e"
             ],
             [
              0.4444444444444444,
              "#bd3786"
             ],
             [
              0.5555555555555556,
              "#d8576b"
             ],
             [
              0.6666666666666666,
              "#ed7953"
             ],
             [
              0.7777777777777778,
              "#fb9f3a"
             ],
             [
              0.8888888888888888,
              "#fdca26"
             ],
             [
              1,
              "#f0f921"
             ]
            ],
            "type": "histogram2dcontour"
           }
          ],
          "mesh3d": [
           {
            "colorbar": {
             "outlinewidth": 0,
             "ticks": ""
            },
            "type": "mesh3d"
           }
          ],
          "parcoords": [
           {
            "line": {
             "colorbar": {
              "outlinewidth": 0,
              "ticks": ""
             }
            },
            "type": "parcoords"
           }
          ],
          "pie": [
           {
            "automargin": true,
            "type": "pie"
           }
          ],
          "scatter": [
           {
            "fillpattern": {
             "fillmode": "overlay",
             "size": 10,
             "solidity": 0.2
            },
            "type": "scatter"
           }
          ],
          "scatter3d": [
           {
            "line": {
             "colorbar": {
              "outlinewidth": 0,
              "ticks": ""
             }
            },
            "marker": {
             "colorbar": {
              "outlinewidth": 0,
              "ticks": ""
             }
            },
            "type": "scatter3d"
           }
          ],
          "scattercarpet": [
           {
            "marker": {
             "colorbar": {
              "outlinewidth": 0,
              "ticks": ""
             }
            },
            "type": "scattercarpet"
           }
          ],
          "scattergeo": [
           {
            "marker": {
             "colorbar": {
              "outlinewidth": 0,
              "ticks": ""
             }
            },
            "type": "scattergeo"
           }
          ],
          "scattergl": [
           {
            "marker": {
             "colorbar": {
              "outlinewidth": 0,
              "ticks": ""
             }
            },
            "type": "scattergl"
           }
          ],
          "scattermap": [
           {
            "marker": {
             "colorbar": {
              "outlinewidth": 0,
              "ticks": ""
             }
            },
            "type": "scattermap"
           }
          ],
          "scattermapbox": [
           {
            "marker": {
             "colorbar": {
              "outlinewidth": 0,
              "ticks": ""
             }
            },
            "type": "scattermapbox"
           }
          ],
          "scatterpolar": [
           {
            "marker": {
             "colorbar": {
              "outlinewidth": 0,
              "ticks": ""
             }
            },
            "type": "scatterpolar"
           }
          ],
          "scatterpolargl": [
           {
            "marker": {
             "colorbar": {
              "outlinewidth": 0,
              "ticks": ""
             }
            },
            "type": "scatterpolargl"
           }
          ],
          "scatterternary": [
           {
            "marker": {
             "colorbar": {
              "outlinewidth": 0,
              "ticks": ""
             }
            },
            "type": "scatterternary"
           }
          ],
          "surface": [
           {
            "colorbar": {
             "outlinewidth": 0,
             "ticks": ""
            },
            "colorscale": [
             [
              0,
              "#0d0887"
             ],
             [
              0.1111111111111111,
              "#46039f"
             ],
             [
              0.2222222222222222,
              "#7201a8"
             ],
             [
              0.3333333333333333,
              "#9c179e"
             ],
             [
              0.4444444444444444,
              "#bd3786"
             ],
             [
              0.5555555555555556,
              "#d8576b"
             ],
             [
              0.6666666666666666,
              "#ed7953"
             ],
             [
              0.7777777777777778,
              "#fb9f3a"
             ],
             [
              0.8888888888888888,
              "#fdca26"
             ],
             [
              1,
              "#f0f921"
             ]
            ],
            "type": "surface"
           }
          ],
          "table": [
           {
            "cells": {
             "fill": {
              "color": "#EBF0F8"
             },
             "line": {
              "color": "white"
             }
            },
            "header": {
             "fill": {
              "color": "#C8D4E3"
             },
             "line": {
              "color": "white"
             }
            },
            "type": "table"
           }
          ]
         },
         "layout": {
          "annotationdefaults": {
           "arrowcolor": "#2a3f5f",
           "arrowhead": 0,
           "arrowwidth": 1
          },
          "autotypenumbers": "strict",
          "coloraxis": {
           "colorbar": {
            "outlinewidth": 0,
            "ticks": ""
           }
          },
          "colorscale": {
           "diverging": [
            [
             0,
             "#8e0152"
            ],
            [
             0.1,
             "#c51b7d"
            ],
            [
             0.2,
             "#de77ae"
            ],
            [
             0.3,
             "#f1b6da"
            ],
            [
             0.4,
             "#fde0ef"
            ],
            [
             0.5,
             "#f7f7f7"
            ],
            [
             0.6,
             "#e6f5d0"
            ],
            [
             0.7,
             "#b8e186"
            ],
            [
             0.8,
             "#7fbc41"
            ],
            [
             0.9,
             "#4d9221"
            ],
            [
             1,
             "#276419"
            ]
           ],
           "sequential": [
            [
             0,
             "#0d0887"
            ],
            [
             0.1111111111111111,
             "#46039f"
            ],
            [
             0.2222222222222222,
             "#7201a8"
            ],
            [
             0.3333333333333333,
             "#9c179e"
            ],
            [
             0.4444444444444444,
             "#bd3786"
            ],
            [
             0.5555555555555556,
             "#d8576b"
            ],
            [
             0.6666666666666666,
             "#ed7953"
            ],
            [
             0.7777777777777778,
             "#fb9f3a"
            ],
            [
             0.8888888888888888,
             "#fdca26"
            ],
            [
             1,
             "#f0f921"
            ]
           ],
           "sequentialminus": [
            [
             0,
             "#0d0887"
            ],
            [
             0.1111111111111111,
             "#46039f"
            ],
            [
             0.2222222222222222,
             "#7201a8"
            ],
            [
             0.3333333333333333,
             "#9c179e"
            ],
            [
             0.4444444444444444,
             "#bd3786"
            ],
            [
             0.5555555555555556,
             "#d8576b"
            ],
            [
             0.6666666666666666,
             "#ed7953"
            ],
            [
             0.7777777777777778,
             "#fb9f3a"
            ],
            [
             0.8888888888888888,
             "#fdca26"
            ],
            [
             1,
             "#f0f921"
            ]
           ]
          },
          "colorway": [
           "#636efa",
           "#EF553B",
           "#00cc96",
           "#ab63fa",
           "#FFA15A",
           "#19d3f3",
           "#FF6692",
           "#B6E880",
           "#FF97FF",
           "#FECB52"
          ],
          "font": {
           "color": "#2a3f5f"
          },
          "geo": {
           "bgcolor": "white",
           "lakecolor": "white",
           "landcolor": "#E5ECF6",
           "showlakes": true,
           "showland": true,
           "subunitcolor": "white"
          },
          "hoverlabel": {
           "align": "left"
          },
          "hovermode": "closest",
          "mapbox": {
           "style": "light"
          },
          "paper_bgcolor": "white",
          "plot_bgcolor": "#E5ECF6",
          "polar": {
           "angularaxis": {
            "gridcolor": "white",
            "linecolor": "white",
            "ticks": ""
           },
           "bgcolor": "#E5ECF6",
           "radialaxis": {
            "gridcolor": "white",
            "linecolor": "white",
            "ticks": ""
           }
          },
          "scene": {
           "xaxis": {
            "backgroundcolor": "#E5ECF6",
            "gridcolor": "white",
            "gridwidth": 2,
            "linecolor": "white",
            "showbackground": true,
            "ticks": "",
            "zerolinecolor": "white"
           },
           "yaxis": {
            "backgroundcolor": "#E5ECF6",
            "gridcolor": "white",
            "gridwidth": 2,
            "linecolor": "white",
            "showbackground": true,
            "ticks": "",
            "zerolinecolor": "white"
           },
           "zaxis": {
            "backgroundcolor": "#E5ECF6",
            "gridcolor": "white",
            "gridwidth": 2,
            "linecolor": "white",
            "showbackground": true,
            "ticks": "",
            "zerolinecolor": "white"
           }
          },
          "shapedefaults": {
           "line": {
            "color": "#2a3f5f"
           }
          },
          "ternary": {
           "aaxis": {
            "gridcolor": "white",
            "linecolor": "white",
            "ticks": ""
           },
           "baxis": {
            "gridcolor": "white",
            "linecolor": "white",
            "ticks": ""
           },
           "bgcolor": "#E5ECF6",
           "caxis": {
            "gridcolor": "white",
            "linecolor": "white",
            "ticks": ""
           }
          },
          "title": {
           "x": 0.05
          },
          "xaxis": {
           "automargin": true,
           "gridcolor": "white",
           "linecolor": "white",
           "ticks": "",
           "title": {
            "standoff": 15
           },
           "zerolinecolor": "white",
           "zerolinewidth": 2
          },
          "yaxis": {
           "automargin": true,
           "gridcolor": "white",
           "linecolor": "white",
           "ticks": "",
           "title": {
            "standoff": 15
           },
           "zerolinecolor": "white",
           "zerolinewidth": 2
          }
         }
        }
       }
      }
     },
     "metadata": {},
     "output_type": "display_data"
    }
   ],
   "source": [
    "from scipy.cluster.hierarchy import fcluster\n",
    "\n",
    "clusters = 6\n",
    "\n",
    "dataframe['ClustersSingle'] = fcluster(linked, clusters, criterion='maxclust')\n",
    "\n",
    "colours = ['blue', 'red', 'green', 'cyan', 'magenta', 'yellow']\n",
    "\n",
    "figure = go.Figure()\n",
    "\n",
    "for cluster in dataframe['ClustersSingle'].unique():\n",
    "  dataframe_cluster = dataframe[dataframe['ClustersSingle'] == cluster]\n",
    "  figure.add_trace(go.Scatter3d(\n",
    "    x = dataframe_cluster['Age'], \n",
    "    y = dataframe_cluster['Annual Income'], \n",
    "    z = dataframe_cluster['Spending Score'], \n",
    "    mode = 'markers',\n",
    "    marker = dict(size = 2.5, color = colours[cluster % len(colours)]),\n",
    "    name = 'Cluster ' + str(cluster)\n",
    "  ))\n",
    "\n",
    "figure.show()"
   ]
  },
  {
   "cell_type": "markdown",
   "metadata": {},
   "source": [
    "### Método centroid"
   ]
  },
  {
   "cell_type": "markdown",
   "metadata": {},
   "source": [
    "Realizamos el mismo procedimiento que en el caso anterior, pero esta vez con el método de centroid."
   ]
  },
  {
   "cell_type": "code",
   "execution_count": 208,
   "metadata": {},
   "outputs": [
    {
     "data": {
      "image/png": "[encoded data removed]",
      "text/plain": [
       "<Figure size 1000x700 with 1 Axes>"
      ]
     },
     "metadata": {},
     "output_type": "display_data"
    }
   ],
   "source": [
    "linked = linkage(dataframe, 'centroid')\n",
    "\n",
    "plt.figure(figsize = (10, 7))\n",
    "dendrogram(linked,\n",
    "           orientation = 'top',\n",
    "           labels = dataframe.index,\n",
    "           distance_sort = 'descending',\n",
    "           show_leaf_counts = True,\n",
    "           color_threshold=2)\n",
    "plt.show()"
   ]
  },
  {
   "cell_type": "code",
   "execution_count": 209,
   "metadata": {},
   "outputs": [
    {
     "name": "stdout",
     "output_type": "stream",
     "text": [
      "0.937682061671576\n"
     ]
    }
   ],
   "source": [
    "cophenetic_coefficient, cophenetic_distances = cophenet(linked, pdist(dataframe))\n",
    "print(cophenetic_coefficient)"
   ]
  },
  {
   "cell_type": "markdown",
   "metadata": {},
   "source": [
    "Usando este nuevo método, obtenemos un coeficiente de correlación de 0.87, lo que indica que la calidad del dendrograma es mejor que en el caso anterior."
   ]
  },
  {
   "cell_type": "code",
   "execution_count": 288,
   "metadata": {},
   "outputs": [
    {
     "data": {
      "application/vnd.plotly.v1+json": {
       "config": {
        "plotlyServerURL": "https://plot.ly"
       },
       "data": [
        {
         "marker": {
          "color": "red",
          "size": 2.5
         },
         "mode": "markers",
         "name": "Cluster 2",
         "type": "scatter3d",
         "x": {
          "bdata": "ExUXFhceIxgWFCMZHx0jFxUSFR4UGBg=",
          "dtype": "i1"
         },
         "y": {
          "bdata": "Dw8QERITExQUFRcYGRwcHR4hISIlJic=",
          "dtype": "i1"
         },
         "z": {
          "bdata": "J1FNTF5IY01PQmJJSVI9V0lcUUlLXEE=",
          "dtype": "i1"
         }
        },
        {
         "marker": {
          "color": "green",
          "size": 2.5
         },
         "mode": "markers",
         "name": "Cluster 3",
         "type": "scatter3d",
         "x": {
          "bdata": "FB8jQEM6JSM0Iy42LSg8NTEqJDAx",
          "dtype": "i1"
         },
         "y": {
          "bdata": "EBESExMUFBUXGBkcHB0eISEiJScn",
          "dtype": "i1"
         },
         "z": {
          "bdata": "BigGAw4PDSMdIwUOIB8EBA4RGiQc",
          "dtype": "i1"
         }
        },
        {
         "marker": {
          "color": "blue",
          "size": 2.5
         },
         "mode": "markers",
         "name": "Cluster 7",
         "type": "scatter3d",
         "x": {
          "bdata": "QTIxOzIvM0U1RkM2PytERi88PDstMTlDLjA3MkQwLzAxQzFCNkRCQT8xMzI4",
          "dtype": "i1"
         },
         "y": {
          "bdata": "JigqKysrLCwuLi8vMDAwMTEyMjY2NjY2NjY5Ojs8PD0+Pj4/Pz8/P0FBQ0NP",
          "dtype": "i1"
         },
         "z": {
          "bdata": "Izc0PC0pMi4uODQ7MzIwNyoxOC81KjMpLC46LjcxLyowOzgyLiswNCs7Kzkj",
          "dtype": "i1"
         }
        },
        {
         "marker": {
          "color": "cyan",
          "size": 2.5
         },
         "mode": "markers",
         "name": "Cluster 4",
         "type": "scatter3d",
         "x": {
          "bdata": "HxsdHyEfGxMSEyAaKBcmFRYiEiggGBsUFxoVEyYTEhMbJigXGRw=",
          "dtype": "i1"
         },
         "y": {
          "bdata": "JygoKCorLi4wMDA2NjY2Njk6Ozw8PDw9Pj4+P0BAQUFDQ0VGSEw=",
          "dtype": "i1"
         },
         "z": {
          "bdata": "PS8qKjw2Mzc7Oy82MDQ3OTc8KSgqNDIxKTcqNiouMDI4KDodIig=",
          "dtype": "i1"
         }
        },
        {
         "marker": {
          "color": "yellow",
          "size": 2.5
         },
         "mode": "markers",
         "name": "Cluster 6",
         "type": "scatter3d",
         "x": {
          "bdata": "Jx8oJicfHSAjICAcICInJhseHh0fJCEgHCQeGyMgHR4cJCAmIyAe",
          "dtype": "i1"
         },
         "y": {
          "bdata": "RQBGAEcARwBHAEgASQBJAEoASwBMAE0ATQBOAE4ATgBOAE4ATgBPAFEAVQBWAFcAVwBXAFgAWABdAGEAYgBjAGUAZwBnAHEAeAB+AIkA",
          "dtype": "i2"
         },
         "z": {
          "bdata": "W01fS0tHWElIXVdhSlpYTFlOSVNdS18/S1xWRVpWWGFEVUVbT0pT",
          "dtype": "i1"
         }
        },
        {
         "marker": {
          "color": "magenta",
          "size": 2.5
         },
         "mode": "markers",
         "name": "Cluster 5",
         "type": "scatter3d",
         "x": {
          "bdata": "KzsvFCwTORkwIissLyUiEzIqJCgkNDo7JS4pNikiIS8tIA==",
          "dtype": "i1"
         },
         "y": {
          "bdata": "RwBHAEcASQBJAEoASwBNAE0ATgBOAE4ATgBOAE4AUQBVAFYAVwBXAFcAWABYAF0AYQBiAGMAZQBnAGcAcQB4AH4AiQA=",
          "dtype": "i2"
         },
         "z": {
          "bdata": "IwsJBQcKBQwkFhEUEAEBBRoUGw0KDQ8OIA8nGBEXCBAcEg==",
          "dtype": "i1"
         }
        }
       ],
       "layout": {
        "template": {
         "data": {
          "bar": [
           {
            "error_x": {
             "color": "#2a3f5f"
            },
            "error_y": {
             "color": "#2a3f5f"
            },
            "marker": {
             "line": {
              "color": "#E5ECF6",
              "width": 0.5
             },
             "pattern": {
              "fillmode": "overlay",
              "size": 10,
              "solidity": 0.2
             }
            },
            "type": "bar"
           }
          ],
          "barpolar": [
           {
            "marker": {
             "line": {
              "color": "#E5ECF6",
              "width": 0.5
             },
             "pattern": {
              "fillmode": "overlay",
              "size": 10,
              "solidity": 0.2
             }
            },
            "type": "barpolar"
           }
          ],
          "carpet": [
           {
            "aaxis": {
             "endlinecolor": "#2a3f5f",
             "gridcolor": "white",
             "linecolor": "white",
             "minorgridcolor": "white",
             "startlinecolor": "#2a3f5f"
            },
            "baxis": {
             "endlinecolor": "#2a3f5f",
             "gridcolor": "white",
             "linecolor": "white",
             "minorgridcolor": "white",
             "startlinecolor": "#2a3f5f"
            },
            "type": "carpet"
           }
          ],
          "choropleth": [
           {
            "colorbar": {
             "outlinewidth": 0,
             "ticks": ""
            },
            "type": "choropleth"
           }
          ],
          "contour": [
           {
            "colorbar": {
             "outlinewidth": 0,
             "ticks": ""
            },
            "colorscale": [
             [
              0,
              "#0d0887"
             ],
             [
              0.1111111111111111,
              "#46039f"
             ],
             [
              0.2222222222222222,
              "#7201a8"
             ],
             [
              0.3333333333333333,
              "#9c179e"
             ],
             [
              0.4444444444444444,
              "#bd3786"
             ],
             [
              0.5555555555555556,
              "#d8576b"
             ],
             [
              0.6666666666666666,
              "#ed7953"
             ],
             [
              0.7777777777777778,
              "#fb9f3a"
             ],
             [
              0.8888888888888888,
              "#fdca26"
             ],
             [
              1,
              "#f0f921"
             ]
            ],
            "type": "contour"
           }
          ],
          "contourcarpet": [
           {
            "colorbar": {
             "outlinewidth": 0,
             "ticks": ""
            },
            "type": "contourcarpet"
           }
          ],
          "heatmap": [
           {
            "colorbar": {
             "outlinewidth": 0,
             "ticks": ""
            },
            "colorscale": [
             [
              0,
              "#0d0887"
             ],
             [
              0.1111111111111111,
              "#46039f"
             ],
             [
              0.2222222222222222,
              "#7201a8"
             ],
             [
              0.3333333333333333,
              "#9c179e"
             ],
             [
              0.4444444444444444,
              "#bd3786"
             ],
             [
              0.5555555555555556,
              "#d8576b"
             ],
             [
              0.6666666666666666,
              "#ed7953"
             ],
             [
              0.7777777777777778,
              "#fb9f3a"
             ],
             [
              0.8888888888888888,
              "#fdca26"
             ],
             [
              1,
              "#f0f921"
             ]
            ],
            "type": "heatmap"
           }
          ],
          "histogram": [
           {
            "marker": {
             "pattern": {
              "fillmode": "overlay",
              "size": 10,
              "solidity": 0.2
             }
            },
            "type": "histogram"
           }
          ],
          "histogram2d": [
           {
            "colorbar": {
             "outlinewidth": 0,
             "ticks": ""
            },
            "colorscale": [
             [
              0,
              "#0d0887"
             ],
             [
              0.1111111111111111,
              "#46039f"
             ],
             [
              0.2222222222222222,
              "#7201a8"
             ],
             [
              0.3333333333333333,
              "#9c179e"
             ],
             [
              0.4444444444444444,
              "#bd3786"
             ],
             [
              0.5555555555555556,
              "#d8576b"
             ],
             [
              0.6666666666666666,
              "#ed7953"
             ],
             [
              0.7777777777777778,
              "#fb9f3a"
             ],
             [
              0.8888888888888888,
              "#fdca26"
             ],
             [
              1,
              "#f0f921"
             ]
            ],
            "type": "histogram2d"
           }
          ],
          "histogram2dcontour": [
           {
            "colorbar": {
             "outlinewidth": 0,
             "ticks": ""
            },
            "colorscale": [
             [
              0,
              "#0d0887"
             ],
             [
              0.1111111111111111,
              "#46039f"
             ],
             [
              0.2222222222222222,
              "#7201a8"
             ],
             [
              0.3333333333333333,
              "#9c179e"
             ],
             [
              0.4444444444444444,
              "#bd3786"
             ],
             [
              0.5555555555555556,
              "#d8576b"
             ],
             [
              0.6666666666666666,
              "#ed7953"
             ],
             [
              0.7777777777777778,
              "#fb9f3a"
             ],
             [
              0.8888888888888888,
              "#fdca26"
             ],
             [
              1,
              "#f0f921"
             ]
            ],
            "type": "histogram2dcontour"
           }
          ],
          "mesh3d": [
           {
            "colorbar": {
             "outlinewidth": 0,
             "ticks": ""
            },
            "type": "mesh3d"
           }
          ],
          "parcoords": [
           {
            "line": {
             "colorbar": {
              "outlinewidth": 0,
              "ticks": ""
             }
            },
            "type": "parcoords"
           }
          ],
          "pie": [
           {
            "automargin": true,
            "type": "pie"
           }
          ],
          "scatter": [
           {
            "fillpattern": {
             "fillmode": "overlay",
             "size": 10,
             "solidity": 0.2
            },
            "type": "scatter"
           }
          ],
          "scatter3d": [
           {
            "line": {
             "colorbar": {
              "outlinewidth": 0,
              "ticks": ""
             }
            },
            "marker": {
             "colorbar": {
              "outlinewidth": 0,
              "ticks": ""
             }
            },
            "type": "scatter3d"
           }
          ],
          "scattercarpet": [
           {
            "marker": {
             "colorbar": {
              "outlinewidth": 0,
              "ticks": ""
             }
            },
            "type": "scattercarpet"
           }
          ],
          "scattergeo": [
           {
            "marker": {
             "colorbar": {
              "outlinewidth": 0,
              "ticks": ""
             }
            },
            "type": "scattergeo"
           }
          ],
          "scattergl": [
           {
            "marker": {
             "colorbar": {
              "outlinewidth": 0,
              "ticks": ""
             }
            },
            "type": "scattergl"
           }
          ],
          "scattermap": [
           {
            "marker": {
             "colorbar": {
              "outlinewidth": 0,
              "ticks": ""
             }
            },
            "type": "scattermap"
           }
          ],
          "scattermapbox": [
           {
            "marker": {
             "colorbar": {
              "outlinewidth": 0,
              "ticks": ""
             }
            },
            "type": "scattermapbox"
           }
          ],
          "scatterpolar": [
           {
            "marker": {
             "colorbar": {
              "outlinewidth": 0,
              "ticks": ""
             }
            },
            "type": "scatterpolar"
           }
          ],
          "scatterpolargl": [
           {
            "marker": {
             "colorbar": {
              "outlinewidth": 0,
              "ticks": ""
             }
            },
            "type": "scatterpolargl"
           }
          ],
          "scatterternary": [
           {
            "marker": {
             "colorbar": {
              "outlinewidth": 0,
              "ticks": ""
             }
            },
            "type": "scatterternary"
           }
          ],
          "surface": [
           {
            "colorbar": {
             "outlinewidth": 0,
             "ticks": ""
            },
            "colorscale": [
             [
              0,
              "#0d0887"
             ],
             [
              0.1111111111111111,
              "#46039f"
             ],
             [
              0.2222222222222222,
              "#7201a8"
             ],
             [
              0.3333333333333333,
              "#9c179e"
             ],
             [
              0.4444444444444444,
              "#bd3786"
             ],
             [
              0.5555555555555556,
              "#d8576b"
             ],
             [
              0.6666666666666666,
              "#ed7953"
             ],
             [
              0.7777777777777778,
              "#fb9f3a"
             ],
             [
              0.8888888888888888,
              "#fdca26"
             ],
             [
              1,
              "#f0f921"
             ]
            ],
            "type": "surface"
           }
          ],
          "table": [
           {
            "cells": {
             "fill": {
              "color": "#EBF0F8"
             },
             "line": {
              "color": "white"
             }
            },
            "header": {
             "fill": {
              "color": "#C8D4E3"
             },
             "line": {
              "color": "white"
             }
            },
            "type": "table"
           }
          ]
         },
         "layout": {
          "annotationdefaults": {
           "arrowcolor": "#2a3f5f",
           "arrowhead": 0,
           "arrowwidth": 1
          },
          "autotypenumbers": "strict",
          "coloraxis": {
           "colorbar": {
            "outlinewidth": 0,
            "ticks": ""
           }
          },
          "colorscale": {
           "diverging": [
            [
             0,
             "#8e0152"
            ],
            [
             0.1,
             "#c51b7d"
            ],
            [
             0.2,
             "#de77ae"
            ],
            [
             0.3,
             "#f1b6da"
            ],
            [
             0.4,
             "#fde0ef"
            ],
            [
             0.5,
             "#f7f7f7"
            ],
            [
             0.6,
             "#e6f5d0"
            ],
            [
             0.7,
             "#b8e186"
            ],
            [
             0.8,
             "#7fbc41"
            ],
            [
             0.9,
             "#4d9221"
            ],
            [
             1,
             "#276419"
            ]
           ],
           "sequential": [
            [
             0,
             "#0d0887"
            ],
            [
             0.1111111111111111,
             "#46039f"
            ],
            [
             0.2222222222222222,
             "#7201a8"
            ],
            [
             0.3333333333333333,
             "#9c179e"
            ],
            [
             0.4444444444444444,
             "#bd3786"
            ],
            [
             0.5555555555555556,
             "#d8576b"
            ],
            [
             0.6666666666666666,
             "#ed7953"
            ],
            [
             0.7777777777777778,
             "#fb9f3a"
            ],
            [
             0.8888888888888888,
             "#fdca26"
            ],
            [
             1,
             "#f0f921"
            ]
           ],
           "sequentialminus": [
            [
             0,
             "#0d0887"
            ],
            [
             0.1111111111111111,
             "#46039f"
            ],
            [
             0.2222222222222222,
             "#7201a8"
            ],
            [
             0.3333333333333333,
             "#9c179e"
            ],
            [
             0.4444444444444444,
             "#bd3786"
            ],
            [
             0.5555555555555556,
             "#d8576b"
            ],
            [
             0.6666666666666666,
             "#ed7953"
            ],
            [
             0.7777777777777778,
             "#fb9f3a"
            ],
            [
             0.8888888888888888,
             "#fdca26"
            ],
            [
             1,
             "#f0f921"
            ]
           ]
          },
          "colorway": [
           "#636efa",
           "#EF553B",
           "#00cc96",
           "#ab63fa",
           "#FFA15A",
           "#19d3f3",
           "#FF6692",
           "#B6E880",
           "#FF97FF",
           "#FECB52"
          ],
          "font": {
           "color": "#2a3f5f"
          },
          "geo": {
           "bgcolor": "white",
           "lakecolor": "white",
           "landcolor": "#E5ECF6",
           "showlakes": true,
           "showland": true,
           "subunitcolor": "white"
          },
          "hoverlabel": {
           "align": "left"
          },
          "hovermode": "closest",
          "mapbox": {
           "style": "light"
          },
          "paper_bgcolor": "white",
          "plot_bgcolor": "#E5ECF6",
          "polar": {
           "angularaxis": {
            "gridcolor": "white",
            "linecolor": "white",
            "ticks": ""
           },
           "bgcolor": "#E5ECF6",
           "radialaxis": {
            "gridcolor": "white",
            "linecolor": "white",
            "ticks": ""
           }
          },
          "scene": {
           "xaxis": {
            "backgroundcolor": "#E5ECF6",
            "gridcolor": "white",
            "gridwidth": 2,
            "linecolor": "white",
            "showbackground": true,
            "ticks": "",
            "zerolinecolor": "white"
           },
           "yaxis": {
            "backgroundcolor": "#E5ECF6",
            "gridcolor": "white",
            "gridwidth": 2,
            "linecolor": "white",
            "showbackground": true,
            "ticks": "",
            "zerolinecolor": "white"
           },
           "zaxis": {
            "backgroundcolor": "#E5ECF6",
            "gridcolor": "white",
            "gridwidth": 2,
            "linecolor": "white",
            "showbackground": true,
            "ticks": "",
            "zerolinecolor": "white"
           }
          },
          "shapedefaults": {
           "line": {
            "color": "#2a3f5f"
           }
          },
          "ternary": {
           "aaxis": {
            "gridcolor": "white",
            "linecolor": "white",
            "ticks": ""
           },
           "baxis": {
            "gridcolor": "white",
            "linecolor": "white",
            "ticks": ""
           },
           "bgcolor": "#E5ECF6",
           "caxis": {
            "gridcolor": "white",
            "linecolor": "white",
            "ticks": ""
           }
          },
          "title": {
           "x": 0.05
          },
          "xaxis": {
           "automargin": true,
           "gridcolor": "white",
           "linecolor": "white",
           "ticks": "",
           "title": {
            "standoff": 15
           },
           "zerolinecolor": "white",
           "zerolinewidth": 2
          },
          "yaxis": {
           "automargin": true,
           "gridcolor": "white",
           "linecolor": "white",
           "ticks": "",
           "title": {
            "standoff": 15
           },
           "zerolinecolor": "white",
           "zerolinewidth": 2
          }
         }
        }
       }
      }
     },
     "metadata": {},
     "output_type": "display_data"
    }
   ],
   "source": [
    "from scipy.cluster.hierarchy import fcluster\n",
    "\n",
    "clusters = 6\n",
    "\n",
    "dataframe['ClustersCentroid'] = fcluster(linked, clusters, criterion='maxclust')\n",
    "\n",
    "colours = ['blue', 'red', 'green', 'cyan', 'magenta', 'yellow']\n",
    "\n",
    "figure = go.Figure()\n",
    "\n",
    "for cluster in dataframe['ClustersCentroid'].unique():\n",
    "  dataframe_cluster = dataframe[dataframe['ClustersCentroid'] == cluster]\n",
    "  figure.add_trace(go.Scatter3d(\n",
    "    x = dataframe_cluster['Age'], \n",
    "    y = dataframe_cluster['Annual Income'], \n",
    "    z = dataframe_cluster['Spending Score'], \n",
    "    mode = 'markers',\n",
    "    marker = dict(size = 2.5, color = colours[cluster % len(colours)]),\n",
    "    name = 'Cluster ' + str(cluster + 1)\n",
    "  ))\n",
    "\n",
    "figure.show()"
   ]
  },
  {
   "cell_type": "markdown",
   "metadata": {},
   "source": [
    "### Método Ward\n",
    "Finalmente, realizamos el mismo procedimiento que en los casos anteriores, pero esta vez con el método de Ward."
   ]
  },
  {
   "cell_type": "code",
   "execution_count": 216,
   "metadata": {},
   "outputs": [
    {
     "data": {
      "image/png": "[encoded data removed]",
      "text/plain": [
       "<Figure size 1000x700 with 1 Axes>"
      ]
     },
     "metadata": {},
     "output_type": "display_data"
    }
   ],
   "source": [
    "linked = linkage(dataframe, 'ward')\n",
    "\n",
    "# Crea el dendrograma\n",
    "plt.figure(figsize = (10, 7))\n",
    "dendrogram(linked,\n",
    "           orientation = 'top',\n",
    "           labels = dataframe.index,\n",
    "           distance_sort = 'descending',\n",
    "           show_leaf_counts = True,\n",
    "           color_threshold=5)\n",
    "plt.show()"
   ]
  },
  {
   "cell_type": "code",
   "execution_count": 217,
   "metadata": {},
   "outputs": [
    {
     "name": "stdout",
     "output_type": "stream",
     "text": [
      "0.949977009398896\n"
     ]
    }
   ],
   "source": [
    "cophenetic_coefficient, cophenetic_distances = cophenet(linked, pdist(dataframe))\n",
    "print(cophenetic_coefficient)"
   ]
  },
  {
   "cell_type": "code",
   "execution_count": 293,
   "metadata": {},
   "outputs": [
    {
     "data": {
      "application/vnd.plotly.v1+json": {
       "config": {
        "plotlyServerURL": "https://plot.ly"
       },
       "data": [
        {
         "marker": {
          "color": "red",
          "size": 2.5
         },
         "mode": "markers",
         "name": "Cluster 2",
         "type": "scatter3d",
         "x": {
          "bdata": "ExUXFhceIxgWFCMZHx0jFxUSFR4UGBg=",
          "dtype": "i1"
         },
         "y": {
          "bdata": "Dw8QERITExQUFRcYGRwcHR4hISIlJic=",
          "dtype": "i1"
         },
         "z": {
          "bdata": "J1FNTF5IY01PQmJJSVI9V0lcUUlLXEE=",
          "dtype": "i1"
         }
        },
        {
         "marker": {
          "color": "green",
          "size": 2.5
         },
         "mode": "markers",
         "name": "Cluster 3",
         "type": "scatter3d",
         "x": {
          "bdata": "FB8jQEM6JSM0Iy42LSg8NTEqJDAx",
          "dtype": "i1"
         },
         "y": {
          "bdata": "EBESExMUFBUXGBkcHB0eISEiJScn",
          "dtype": "i1"
         },
         "z": {
          "bdata": "BigGAw4PDSMdIwUOIB8EBA4RGiQc",
          "dtype": "i1"
         }
        },
        {
         "marker": {
          "color": "blue",
          "size": 2.5
         },
         "mode": "markers",
         "name": "Cluster 7",
         "type": "scatter3d",
         "x": {
          "bdata": "QTIxOzIvM0U1RkM2PytERi88PDstMTlDLjA3MkQwLzAxQzFCNkRCQT8xMzI4",
          "dtype": "i1"
         },
         "y": {
          "bdata": "JigqKysrLCwuLi8vMDAwMTEyMjY2NjY2NjY5Ojs8PD0+Pj4/Pz8/P0FBQ0NP",
          "dtype": "i1"
         },
         "z": {
          "bdata": "Izc0PC0pMi4uODQ7MzIwNyoxOC81KjMpLC46LjcxLyowOzgyLiswNCs7Kzkj",
          "dtype": "i1"
         }
        },
        {
         "marker": {
          "color": "cyan",
          "size": 2.5
         },
         "mode": "markers",
         "name": "Cluster 4",
         "type": "scatter3d",
         "x": {
          "bdata": "HxsdHyEfGxMSEyAaKBcmFRYiEiggGBsUFxoVEyYTEhMbJigXGRw=",
          "dtype": "i1"
         },
         "y": {
          "bdata": "JygoKCorLi4wMDA2NjY2Njk6Ozw8PDw9Pj4+P0BAQUFDQ0VGSEw=",
          "dtype": "i1"
         },
         "z": {
          "bdata": "PS8qKjw2Mzc7Oy82MDQ3OTc8KSgqNDIxKTcqNiouMDI4KDodIig=",
          "dtype": "i1"
         }
        },
        {
         "marker": {
          "color": "yellow",
          "size": 2.5
         },
         "mode": "markers",
         "name": "Cluster 6",
         "type": "scatter3d",
         "x": {
          "bdata": "Jx8oJicfHSAjICAcICInJhseHh0fJCEgHCQeGyMgHR4cJCAmIyAe",
          "dtype": "i1"
         },
         "y": {
          "bdata": "RQBGAEcARwBHAEgASQBJAEoASwBMAE0ATQBOAE4ATgBOAE4ATgBPAFEAVQBWAFcAVwBXAFgAWABdAGEAYgBjAGUAZwBnAHEAeAB+AIkA",
          "dtype": "i2"
         },
         "z": {
          "bdata": "W01fS0tHWElIXVdhSlpYTFlOSVNdS18/S1xWRVpWWGFEVUVbT0pT",
          "dtype": "i1"
         }
        },
        {
         "marker": {
          "color": "magenta",
          "size": 2.5
         },
         "mode": "markers",
         "name": "Cluster 5",
         "type": "scatter3d",
         "x": {
          "bdata": "KzsvFCwTORkwIissLyUiEzIqJCgkNDo7JS4pNikiIS8tIA==",
          "dtype": "i1"
         },
         "y": {
          "bdata": "RwBHAEcASQBJAEoASwBNAE0ATgBOAE4ATgBOAE4AUQBVAFYAVwBXAFcAWABYAF0AYQBiAGMAZQBnAGcAcQB4AH4AiQA=",
          "dtype": "i2"
         },
         "z": {
          "bdata": "IwsJBQcKBQwkFhEUEAEBBRoUGw0KDQ8OIA8nGBEXCBAcEg==",
          "dtype": "i1"
         }
        }
       ],
       "layout": {
        "template": {
         "data": {
          "bar": [
           {
            "error_x": {
             "color": "#2a3f5f"
            },
            "error_y": {
             "color": "#2a3f5f"
            },
            "marker": {
             "line": {
              "color": "#E5ECF6",
              "width": 0.5
             },
             "pattern": {
              "fillmode": "overlay",
              "size": 10,
              "solidity": 0.2
             }
            },
            "type": "bar"
           }
          ],
          "barpolar": [
           {
            "marker": {
             "line": {
              "color": "#E5ECF6",
              "width": 0.5
             },
             "pattern": {
              "fillmode": "overlay",
              "size": 10,
              "solidity": 0.2
             }
            },
            "type": "barpolar"
           }
          ],
          "carpet": [
           {
            "aaxis": {
             "endlinecolor": "#2a3f5f",
             "gridcolor": "white",
             "linecolor": "white",
             "minorgridcolor": "white",
             "startlinecolor": "#2a3f5f"
            },
            "baxis": {
             "endlinecolor": "#2a3f5f",
             "gridcolor": "white",
             "linecolor": "white",
             "minorgridcolor": "white",
             "startlinecolor": "#2a3f5f"
            },
            "type": "carpet"
           }
          ],
          "choropleth": [
           {
            "colorbar": {
             "outlinewidth": 0,
             "ticks": ""
            },
            "type": "choropleth"
           }
          ],
          "contour": [
           {
            "colorbar": {
             "outlinewidth": 0,
             "ticks": ""
            },
            "colorscale": [
             [
              0,
              "#0d0887"
             ],
             [
              0.1111111111111111,
              "#46039f"
             ],
             [
              0.2222222222222222,
              "#7201a8"
             ],
             [
              0.3333333333333333,
              "#9c179e"
             ],
             [
              0.4444444444444444,
              "#bd3786"
             ],
             [
              0.5555555555555556,
              "#d8576b"
             ],
             [
              0.6666666666666666,
              "#ed7953"
             ],
             [
              0.7777777777777778,
              "#fb9f3a"
             ],
             [
              0.8888888888888888,
              "#fdca26"
             ],
             [
              1,
              "#f0f921"
             ]
            ],
            "type": "contour"
           }
          ],
          "contourcarpet": [
           {
            "colorbar": {
             "outlinewidth": 0,
             "ticks": ""
            },
            "type": "contourcarpet"
           }
          ],
          "heatmap": [
           {
            "colorbar": {
             "outlinewidth": 0,
             "ticks": ""
            },
            "colorscale": [
             [
              0,
              "#0d0887"
             ],
             [
              0.1111111111111111,
              "#46039f"
             ],
             [
              0.2222222222222222,
              "#7201a8"
             ],
             [
              0.3333333333333333,
              "#9c179e"
             ],
             [
              0.4444444444444444,
              "#bd3786"
             ],
             [
              0.5555555555555556,
              "#d8576b"
             ],
             [
              0.6666666666666666,
              "#ed7953"
             ],
             [
              0.7777777777777778,
              "#fb9f3a"
             ],
             [
              0.8888888888888888,
              "#fdca26"
             ],
             [
              1,
              "#f0f921"
             ]
            ],
            "type": "heatmap"
           }
          ],
          "histogram": [
           {
            "marker": {
             "pattern": {
              "fillmode": "overlay",
              "size": 10,
              "solidity": 0.2
             }
            },
            "type": "histogram"
           }
          ],
          "histogram2d": [
           {
            "colorbar": {
             "outlinewidth": 0,
             "ticks": ""
            },
            "colorscale": [
             [
              0,
              "#0d0887"
             ],
             [
              0.1111111111111111,
              "#46039f"
             ],
             [
              0.2222222222222222,
              "#7201a8"
             ],
             [
              0.3333333333333333,
              "#9c179e"
             ],
             [
              0.4444444444444444,
              "#bd3786"
             ],
             [
              0.5555555555555556,
              "#d8576b"
             ],
             [
              0.6666666666666666,
              "#ed7953"
             ],
             [
              0.7777777777777778,
              "#fb9f3a"
             ],
             [
              0.8888888888888888,
              "#fdca26"
             ],
             [
              1,
              "#f0f921"
             ]
            ],
            "type": "histogram2d"
           }
          ],
          "histogram2dcontour": [
           {
            "colorbar": {
             "outlinewidth": 0,
             "ticks": ""
            },
            "colorscale": [
             [
              0,
              "#0d0887"
             ],
             [
              0.1111111111111111,
              "#46039f"
             ],
             [
              0.2222222222222222,
              "#7201a8"
             ],
             [
              0.3333333333333333,
              "#9c179e"
             ],
             [
              0.4444444444444444,
              "#bd3786"
             ],
             [
              0.5555555555555556,
              "#d8576b"
             ],
             [
              0.6666666666666666,
              "#ed7953"
             ],
             [
              0.7777777777777778,
              "#fb9f3a"
             ],
             [
              0.8888888888888888,
              "#fdca26"
             ],
             [
              1,
              "#f0f921"
             ]
            ],
            "type": "histogram2dcontour"
           }
          ],
          "mesh3d": [
           {
            "colorbar": {
             "outlinewidth": 0,
             "ticks": ""
            },
            "type": "mesh3d"
           }
          ],
          "parcoords": [
           {
            "line": {
             "colorbar": {
              "outlinewidth": 0,
              "ticks": ""
             }
            },
            "type": "parcoords"
           }
          ],
          "pie": [
           {
            "automargin": true,
            "type": "pie"
           }
          ],
          "scatter": [
           {
            "fillpattern": {
             "fillmode": "overlay",
             "size": 10,
             "solidity": 0.2
            },
            "type": "scatter"
           }
          ],
          "scatter3d": [
           {
            "line": {
             "colorbar": {
              "outlinewidth": 0,
              "ticks": ""
             }
            },
            "marker": {
             "colorbar": {
              "outlinewidth": 0,
              "ticks": ""
             }
            },
            "type": "scatter3d"
           }
          ],
          "scattercarpet": [
           {
            "marker": {
             "colorbar": {
              "outlinewidth": 0,
              "ticks": ""
             }
            },
            "type": "scattercarpet"
           }
          ],
          "scattergeo": [
           {
            "marker": {
             "colorbar": {
              "outlinewidth": 0,
              "ticks": ""
             }
            },
            "type": "scattergeo"
           }
          ],
          "scattergl": [
           {
            "marker": {
             "colorbar": {
              "outlinewidth": 0,
              "ticks": ""
             }
            },
            "type": "scattergl"
           }
          ],
          "scattermap": [
           {
            "marker": {
             "colorbar": {
              "outlinewidth": 0,
              "ticks": ""
             }
            },
            "type": "scattermap"
           }
          ],
          "scattermapbox": [
           {
            "marker": {
             "colorbar": {
              "outlinewidth": 0,
              "ticks": ""
             }
            },
            "type": "scattermapbox"
           }
          ],
          "scatterpolar": [
           {
            "marker": {
             "colorbar": {
              "outlinewidth": 0,
              "ticks": ""
             }
            },
            "type": "scatterpolar"
           }
          ],
          "scatterpolargl": [
           {
            "marker": {
             "colorbar": {
              "outlinewidth": 0,
              "ticks": ""
             }
            },
            "type": "scatterpolargl"
           }
          ],
          "scatterternary": [
           {
            "marker": {
             "colorbar": {
              "outlinewidth": 0,
              "ticks": ""
             }
            },
            "type": "scatterternary"
           }
          ],
          "surface": [
           {
            "colorbar": {
             "outlinewidth": 0,
             "ticks": ""
            },
            "colorscale": [
             [
              0,
              "#0d0887"
             ],
             [
              0.1111111111111111,
              "#46039f"
             ],
             [
              0.2222222222222222,
              "#7201a8"
             ],
             [
              0.3333333333333333,
              "#9c179e"
             ],
             [
              0.4444444444444444,
              "#bd3786"
             ],
             [
              0.5555555555555556,
              "#d8576b"
             ],
             [
              0.6666666666666666,
              "#ed7953"
             ],
             [
              0.7777777777777778,
              "#fb9f3a"
             ],
             [
              0.8888888888888888,
              "#fdca26"
             ],
             [
              1,
              "#f0f921"
             ]
            ],
            "type": "surface"
           }
          ],
          "table": [
           {
            "cells": {
             "fill": {
              "color": "#EBF0F8"
             },
             "line": {
              "color": "white"
             }
            },
            "header": {
             "fill": {
              "color": "#C8D4E3"
             },
             "line": {
              "color": "white"
             }
            },
            "type": "table"
           }
          ]
         },
         "layout": {
          "annotationdefaults": {
           "arrowcolor": "#2a3f5f",
           "arrowhead": 0,
           "arrowwidth": 1
          },
          "autotypenumbers": "strict",
          "coloraxis": {
           "colorbar": {
            "outlinewidth": 0,
            "ticks": ""
           }
          },
          "colorscale": {
           "diverging": [
            [
             0,
             "#8e0152"
            ],
            [
             0.1,
             "#c51b7d"
            ],
            [
             0.2,
             "#de77ae"
            ],
            [
             0.3,
             "#f1b6da"
            ],
            [
             0.4,
             "#fde0ef"
            ],
            [
             0.5,
             "#f7f7f7"
            ],
            [
             0.6,
             "#e6f5d0"
            ],
            [
             0.7,
             "#b8e186"
            ],
            [
             0.8,
             "#7fbc41"
            ],
            [
             0.9,
             "#4d9221"
            ],
            [
             1,
             "#276419"
            ]
           ],
           "sequential": [
            [
             0,
             "#0d0887"
            ],
            [
             0.1111111111111111,
             "#46039f"
            ],
            [
             0.2222222222222222,
             "#7201a8"
            ],
            [
             0.3333333333333333,
             "#9c179e"
            ],
            [
             0.4444444444444444,
             "#bd3786"
            ],
            [
             0.5555555555555556,
             "#d8576b"
            ],
            [
             0.6666666666666666,
             "#ed7953"
            ],
            [
             0.7777777777777778,
             "#fb9f3a"
            ],
            [
             0.8888888888888888,
             "#fdca26"
            ],
            [
             1,
             "#f0f921"
            ]
           ],
           "sequentialminus": [
            [
             0,
             "#0d0887"
            ],
            [
             0.1111111111111111,
             "#46039f"
            ],
            [
             0.2222222222222222,
             "#7201a8"
            ],
            [
             0.3333333333333333,
             "#9c179e"
            ],
            [
             0.4444444444444444,
             "#bd3786"
            ],
            [
             0.5555555555555556,
             "#d8576b"
            ],
            [
             0.6666666666666666,
             "#ed7953"
            ],
            [
             0.7777777777777778,
             "#fb9f3a"
            ],
            [
             0.8888888888888888,
             "#fdca26"
            ],
            [
             1,
             "#f0f921"
            ]
           ]
          },
          "colorway": [
           "#636efa",
           "#EF553B",
           "#00cc96",
           "#ab63fa",
           "#FFA15A",
           "#19d3f3",
           "#FF6692",
           "#B6E880",
           "#FF97FF",
           "#FECB52"
          ],
          "font": {
           "color": "#2a3f5f"
          },
          "geo": {
           "bgcolor": "white",
           "lakecolor": "white",
           "landcolor": "#E5ECF6",
           "showlakes": true,
           "showland": true,
           "subunitcolor": "white"
          },
          "hoverlabel": {
           "align": "left"
          },
          "hovermode": "closest",
          "mapbox": {
           "style": "light"
          },
          "paper_bgcolor": "white",
          "plot_bgcolor": "#E5ECF6",
          "polar": {
           "angularaxis": {
            "gridcolor": "white",
            "linecolor": "white",
            "ticks": ""
           },
           "bgcolor": "#E5ECF6",
           "radialaxis": {
            "gridcolor": "white",
            "linecolor": "white",
            "ticks": ""
           }
          },
          "scene": {
           "xaxis": {
            "backgroundcolor": "#E5ECF6",
            "gridcolor": "white",
            "gridwidth": 2,
            "linecolor": "white",
            "showbackground": true,
            "ticks": "",
            "zerolinecolor": "white"
           },
           "yaxis": {
            "backgroundcolor": "#E5ECF6",
            "gridcolor": "white",
            "gridwidth": 2,
            "linecolor": "white",
            "showbackground": true,
            "ticks": "",
            "zerolinecolor": "white"
           },
           "zaxis": {
            "backgroundcolor": "#E5ECF6",
            "gridcolor": "white",
            "gridwidth": 2,
            "linecolor": "white",
            "showbackground": true,
            "ticks": "",
            "zerolinecolor": "white"
           }
          },
          "shapedefaults": {
           "line": {
            "color": "#2a3f5f"
           }
          },
          "ternary": {
           "aaxis": {
            "gridcolor": "white",
            "linecolor": "white",
            "ticks": ""
           },
           "baxis": {
            "gridcolor": "white",
            "linecolor": "white",
            "ticks": ""
           },
           "bgcolor": "#E5ECF6",
           "caxis": {
            "gridcolor": "white",
            "linecolor": "white",
            "ticks": ""
           }
          },
          "title": {
           "x": 0.05
          },
          "xaxis": {
           "automargin": true,
           "gridcolor": "white",
           "linecolor": "white",
           "ticks": "",
           "title": {
            "standoff": 15
           },
           "zerolinecolor": "white",
           "zerolinewidth": 2
          },
          "yaxis": {
           "automargin": true,
           "gridcolor": "white",
           "linecolor": "white",
           "ticks": "",
           "title": {
            "standoff": 15
           },
           "zerolinecolor": "white",
           "zerolinewidth": 2
          }
         }
        }
       }
      }
     },
     "metadata": {},
     "output_type": "display_data"
    }
   ],
   "source": [
    "from scipy.cluster.hierarchy import fcluster\n",
    "\n",
    "clusters = 6\n",
    "\n",
    "dataframe['ClustersWard'] = fcluster(linked, clusters, criterion='maxclust')\n",
    "\n",
    "colours = ['blue', 'red', 'green', 'cyan', 'magenta', 'yellow']\n",
    "\n",
    "figure = go.Figure()\n",
    "\n",
    "for cluster in dataframe['ClustersWard'].unique():\n",
    "  dataframe_cluster = dataframe[dataframe['ClustersWard'] == cluster]\n",
    "  figure.add_trace(go.Scatter3d(\n",
    "    x = dataframe_cluster['Age'], \n",
    "    y = dataframe_cluster['Annual Income'], \n",
    "    z = dataframe_cluster['Spending Score'], \n",
    "    mode = 'markers',\n",
    "    marker = dict(size = 2.5, color = colours[cluster % len(colours)]),\n",
    "    name = 'Cluster ' + str(cluster + 1)\n",
    "  ))\n",
    "\n",
    "figure.show()"
   ]
  },
  {
   "cell_type": "markdown",
   "metadata": {},
   "source": [
    "# Agrupamiento por género\n",
    "En este caso, vamos a realizar el agrupamiento de los datos pero teniendo en cuenta el género de los clientes."
   ]
  },
  {
   "cell_type": "code",
   "execution_count": 219,
   "metadata": {},
   "outputs": [
    {
     "data": {
      "text/html": [
       "<div>\n",
       "<style scoped>\n",
       "    .dataframe tbody tr th:only-of-type {\n",
       "        vertical-align: middle;\n",
       "    }\n",
       "\n",
       "    .dataframe tbody tr th {\n",
       "        vertical-align: top;\n",
       "    }\n",
       "\n",
       "    .dataframe thead th {\n",
       "        text-align: right;\n",
       "    }\n",
       "</style>\n",
       "<table border=\"1\" class=\"dataframe\">\n",
       "  <thead>\n",
       "    <tr style=\"text-align: right;\">\n",
       "      <th></th>\n",
       "      <th>Genre</th>\n",
       "      <th>Age</th>\n",
       "      <th>Annual Income</th>\n",
       "      <th>Spending Score</th>\n",
       "    </tr>\n",
       "  </thead>\n",
       "  <tbody>\n",
       "    <tr>\n",
       "      <th>0</th>\n",
       "      <td>Male</td>\n",
       "      <td>19</td>\n",
       "      <td>15</td>\n",
       "      <td>39</td>\n",
       "    </tr>\n",
       "    <tr>\n",
       "      <th>1</th>\n",
       "      <td>Male</td>\n",
       "      <td>21</td>\n",
       "      <td>15</td>\n",
       "      <td>81</td>\n",
       "    </tr>\n",
       "    <tr>\n",
       "      <th>2</th>\n",
       "      <td>Female</td>\n",
       "      <td>20</td>\n",
       "      <td>16</td>\n",
       "      <td>6</td>\n",
       "    </tr>\n",
       "    <tr>\n",
       "      <th>3</th>\n",
       "      <td>Female</td>\n",
       "      <td>23</td>\n",
       "      <td>16</td>\n",
       "      <td>77</td>\n",
       "    </tr>\n",
       "    <tr>\n",
       "      <th>4</th>\n",
       "      <td>Female</td>\n",
       "      <td>31</td>\n",
       "      <td>17</td>\n",
       "      <td>40</td>\n",
       "    </tr>\n",
       "    <tr>\n",
       "      <th>5</th>\n",
       "      <td>Female</td>\n",
       "      <td>22</td>\n",
       "      <td>17</td>\n",
       "      <td>76</td>\n",
       "    </tr>\n",
       "    <tr>\n",
       "      <th>6</th>\n",
       "      <td>Female</td>\n",
       "      <td>35</td>\n",
       "      <td>18</td>\n",
       "      <td>6</td>\n",
       "    </tr>\n",
       "    <tr>\n",
       "      <th>7</th>\n",
       "      <td>Female</td>\n",
       "      <td>23</td>\n",
       "      <td>18</td>\n",
       "      <td>94</td>\n",
       "    </tr>\n",
       "    <tr>\n",
       "      <th>8</th>\n",
       "      <td>Male</td>\n",
       "      <td>64</td>\n",
       "      <td>19</td>\n",
       "      <td>3</td>\n",
       "    </tr>\n",
       "    <tr>\n",
       "      <th>9</th>\n",
       "      <td>Female</td>\n",
       "      <td>30</td>\n",
       "      <td>19</td>\n",
       "      <td>72</td>\n",
       "    </tr>\n",
       "  </tbody>\n",
       "</table>\n",
       "</div>"
      ],
      "text/plain": [
       "    Genre  Age  Annual Income  Spending Score\n",
       "0    Male   19             15              39\n",
       "1    Male   21             15              81\n",
       "2  Female   20             16               6\n",
       "3  Female   23             16              77\n",
       "4  Female   31             17              40\n",
       "5  Female   22             17              76\n",
       "6  Female   35             18               6\n",
       "7  Female   23             18              94\n",
       "8    Male   64             19               3\n",
       "9  Female   30             19              72"
      ]
     },
     "execution_count": 219,
     "metadata": {},
     "output_type": "execute_result"
    }
   ],
   "source": [
    "# Cargamos la base de datos nuevamente y realizamos el preprocesamiento de los datos\n",
    "dataframe = pd.read_csv(r\"dataframe/mallCustomers.csv\")\n",
    "dataframe = dataframe.drop('CustomerID', axis = 1)\n",
    "dataframe.head(10)"
   ]
  },
  {
   "cell_type": "markdown",
   "metadata": {},
   "source": [
    "Creamos dos conjuntos de datos nuevos a partir de los que ya teniamos, uno para los hombres y otro para las mujeres."
   ]
  },
  {
   "cell_type": "code",
   "execution_count": 220,
   "metadata": {},
   "outputs": [],
   "source": [
    "dataframe_female = dataframe[dataframe['Genre'] == 'Female']\n",
    "dataframe_female = dataframe_female.drop('Genre', axis = 1)\n",
    "dataframe_male = dataframe[dataframe['Genre'] == 'Male']\n",
    "dataframe_male = dataframe_male.drop('Genre', axis = 1)"
   ]
  },
  {
   "cell_type": "markdown",
   "metadata": {},
   "source": [
    "Vamos ahora a eliminar los outliers de los datos de ambas agrupaciones, tal y como hicimos anteriormente."
   ]
  },
  {
   "cell_type": "code",
   "execution_count": 221,
   "metadata": {},
   "outputs": [],
   "source": [
    "dataframe_female = dataframe_female[dataframe_female['Annual Income'] < 130]\n",
    "dataframe_male = dataframe_male[dataframe_male['Annual Income'] < 130]"
   ]
  },
  {
   "cell_type": "markdown",
   "metadata": {},
   "source": [
    "Por otro lado, vamos a estandarizar los datos de ambos conjuntos, para que todas las variables tengan la misma importancia, como se realizó anteriormente."
   ]
  },
  {
   "cell_type": "code",
   "execution_count": 222,
   "metadata": {},
   "outputs": [],
   "source": [
    "dataframe_female_mean = dataframe_female.mean()\n",
    "dataframe_female_std = dataframe_female.std()\n",
    "dataframe_female = (dataframe_female - dataframe_female_mean) / dataframe_female_std\n",
    "\n",
    "dataframe_male_mean = dataframe_male.mean()\n",
    "dataframe_male_std = dataframe_male.std()\n",
    "dataframe_male = (dataframe_male - dataframe_male_mean) / dataframe_male_std"
   ]
  },
  {
   "cell_type": "markdown",
   "metadata": {},
   "source": [
    "Calculamos los centroides de los clusters para el conjunto de datos de las mujeres."
   ]
  },
  {
   "cell_type": "code",
   "execution_count": 223,
   "metadata": {},
   "outputs": [
    {
     "name": "stdout",
     "output_type": "stream",
     "text": [
      "Age               25.461538\n",
      "Annual Income     25.692308\n",
      "Spending Score    80.538462\n",
      "dtype: float64\n",
      "Age               43.785714\n",
      "Annual Income     93.285714\n",
      "Spending Score    20.642857\n",
      "dtype: float64\n",
      "Age               32.190476\n",
      "Annual Income     86.047619\n",
      "Spending Score    81.666667\n",
      "dtype: float64\n",
      "Age               54.153846\n",
      "Annual Income     54.230769\n",
      "Spending Score    48.961538\n",
      "dtype: float64\n",
      "Age               41.538462\n",
      "Annual Income     26.538462\n",
      "Spending Score    20.692308\n",
      "dtype: float64\n",
      "Age               27.96\n",
      "Annual Income     57.36\n",
      "Spending Score    47.12\n",
      "dtype: float64\n"
     ]
    }
   ],
   "source": [
    "clusters = 6\n",
    "\n",
    "kmeans_female = KMeans(clusters).fit(dataframe_female)\n",
    "centroids_female = kmeans_female.cluster_centers_\n",
    "\n",
    "# Deshacemos la estandarización, para mostrar los resultados en la escala original\n",
    "for each in centroids_female:\n",
    "  print(each * dataframe_female_std + dataframe_female_mean)"
   ]
  },
  {
   "cell_type": "markdown",
   "metadata": {},
   "source": [
    "A continuación, vamos a mostrar los centroides de los clusters obtenidos en el caso de las mujeres."
   ]
  },
  {
   "cell_type": "code",
   "execution_count": null,
   "metadata": {},
   "outputs": [
    {
     "data": {
      "application/vnd.plotly.v1+json": {
       "config": {
        "plotlyServerURL": "https://plot.ly"
       },
       "data": [
        {
         "marker": {
          "color": "red",
          "size": 2.5
         },
         "mode": "markers",
         "name": "Cluster 2",
         "type": "scatter3d",
         "x": {
          "bdata": "vqiPk9bm9r+Bz8Ug3/bhv4OvIJE5Xc+/fSDF6xgv+T+DryCROV3PvxlWEaJ//+M/rU6GjVAf9D8x7fFym3fhP6CCUx2aQMM/0ZBvLyyX6z/xZCfL3b/TP+MLo9SoPcW/0ZBvLyyX6z8=",
          "dtype": "f8"
         },
         "y": {
          "bdata": "+LXma2ia+r9UiPoa8fz5v7BaDsp5X/m/Z/81KIsk+L/D0UnXE4f3vzMbmZM2EfW/R5LUoNA4879HktSg0Djzv6Nk6E9Zm/K/E643DHwl8L/dAJd2CRDvvwXvDZE9X+u/dDhdTWDp6L8=",
          "dtype": "f8"
         },
         "z": {
          "bdata": "caY5Gt40/r+G8yVtcZfev3GmORreNP6/rde9djA8+L9IUY7BQO7lvzIvuYG43v6/bmA93grm+L/KhYsuX+npv0uXiv0TPeu/bmA93grm+L8sxr6ne+j2v2j3QgTO7/C/zsuHajI4778=",
          "dtype": "f8"
         }
        },
        {
         "marker": {
          "color": "blue",
          "size": 2.5
         },
         "mode": "markers",
         "name": "Cluster 1",
         "type": "scatter3d",
         "x": {
          "bdata": "YYvgTAAb87/VP3Bk8l70v2GL4EwAG/O/ajjlT8N+5L+DryCROV3Pv+3WUDUO1/G/g68gkTldz79hi+BMABvzv0r0/3vkovW/SvT/e+Si9b9qOOVPw37kv76oj5PW5va/7dZQNQ7X8b8=",
          "dtype": "f8"
         },
         "y": {
          "bdata": "+LXma2ia+r9UiPoa8fz5v7BaDsp5X/m/Cy0ieQLC+L8LLSJ5AsL4v2f/NSiLJPi/e3ZxNSVM9r+jZOhPWZvyv/82/P7h/fG/E643DHwl8L/dAJd2CRDvvwXvDZE9X+u/dDhdTWDp6L8=",
          "dtype": "f8"
         },
         "z": {
          "bdata": "8EYlmrTm8D8vvqUy2jzwP7dbnXk1Lvw/WzZPKeEq6z96Bxt/eX//P/BGJZq05vA/uX6bF5/V/j90niClPIn3P9xHTviVfuw/8WkjOB6O8z/cR074lX7sP91qTJb/Je8/1LtVgO/g4T8=",
          "dtype": "f8"
         }
        },
        {
         "marker": {
          "color": "yellow",
          "size": 2.5
         },
         "mode": "markers",
         "name": "Cluster 6",
         "type": "scatter3d",
         "x": {
          "bdata": "1YdZyFsFAUC6+Y5eEB/uP9GQby8sl+s/uvmOXhAf7j9RMddGelPwP0k86d9NSQJArU6GjVAf9D/BNmYpps/YP4MWsetG6wJAAb8w0WOH5j9mieQa/bb7P2aJ5Br9tvs/Me3xcpt34T/RkG8vLJfrPxlWEaJ//+M/IQMWpUJj9T+6+Y5eEB/uP4MWsetG6wJAAb8w0WOH5j/RkG8vLJfrPw9iIdRUpwFAwqaTYdOC/z/RkG8vLJfrP1Ex10Z6U/A/uvmOXhAf7j+Vt6W8NKf2Pw==",
          "dtype": "f8"
         },
         "y": {
          "bdata": "vZM1704k6r8s3YSrca7nv5wm1GeUOOW/VMv7xaX9478McCMkt8Liv2e8NH3WI96/Z7w0fdYj3r/XBYQ5+a3bv9cFhDn5rdu/Rk/T9Rs42b+2mCKyPsLWv7aYIrI+wta/63y/RpPVyb/rfL9Gk9XJv+t8v0aT1cm/Ems2Yccktr+iIeekpJqov4K0hR3qroO/w45ILF+GnT8z2JfogRC7PzpZrXv7c8I/ezNwinBLzD97M3CKcEvMP96GmcxyEdM/3oaZzHIR0z/QCnH86EvoPw==",
          "dtype": "f8"
         },
         "z": {
          "bdata": "SFGOwUDu5b8rM3ypfW/CPwIJO6wfGJQ/fUQvV2FS0b/OVeIERTWwvwIJO6wfGJQ/naW2TGXV0z/OVeIERTWwv++2afpIuMK/gq0pMZ5I2b/W4dp869K6vy95eOVQvsc/kJwOxlxHrz+CrSkxnkjZv39nLfXK+dO/m4K4rvst0T/2QmJy71XNvyszfKl9b8I/8vxlNhwHyL/vtmn6SLjCv85V4gRFNbC/gYorkzSh1r+dpbZMZdXTP4GKK5M0oda/M790ISQNzT9IUY7BQO7lvw==",
          "dtype": "f8"
         }
        },
        {
         "marker": {
          "color": "cyan",
          "size": 2.5
         },
         "mode": "markers",
         "name": "Cluster 4",
         "type": "scatter3d",
         "x": {
          "bdata": "gc/FIN/24b8ic0Pdbxbsv1KhBH+nBue/gc/FIN/24b+Bz8Ug3/bhvyJzQ91vFuy/M81M4/Xd3r9hi+BMABvzv0r0/3vkovW/1T9wZPJe9L+SKc8mZb7Uv6CCUx2aQMM/M81M4/Xd3r8ic0Pdbxbsv2GL4EwAG/O/SvT/e+Si9b8yXR+ryCr4vy+U+HTr0H+/phGvwrpu+b8yXR+ryCr4vy+U+HTr0H+/oIJTHZpAwz9hi+BMABvzv3kiwR0ck/C/OgokrouO6b8=",
          "dtype": "f8"
         },
         "y": {
          "bdata": "dDhdTWDp6L8s3YSrca7nvyzdhKtxrue/LN2Eq3Gu579Uy/vFpf3jv3y5cuDZTOC/1wWEOfmt27/rfL9Gk9XJv+t8v0aT1cm/Ems2Yccktr+iIeekpJqov8OOSCxfhp0/w45ILF+GnT/DjkgsX4adPzPYl+iBELs/M9iX6IEQuz86Wa17+3PCP1rGDgO2X8c/ezNwinBLzD97M3CKcEvMP96GmcxyEdM//vP6Uy391z+PqquXCnPaP68XDR/FXt8/+PjnFh2b5D8=",
          "dtype": "f8"
         },
         "z": {
          "bdata": "oeuyiDgk2T/y/GU2HAfIv4KtKTGeSNm/gq0pMZ5I2b9P2v/aVEG6PxwnpzN6Xpa/8vxlNhwHyL8CCTusHxiUPzO/dCEkDc0/KzN8qX1vwj+fyLTqznzWP4bzJW1xl96/gq0pMZ5I2b/OVeIERTWwv4TQJ88H8Nu/gq0pMZ5I2b9P2v/aVEG6P4KtKTGeSNm/77Zp+ki4wr/OVeIERTWwv4bzJW1xl96/m4K4rvst0T9NuoibfeTtv8lijZD1Qee/hvMlbXGX3r8=",
          "dtype": "f8"
         }
        },
        {
         "marker": {
          "color": "green",
          "size": 2.5
         },
         "mode": "markers",
         "name": "Cluster 3",
         "type": "scatter3d",
         "x": {
          "bdata": "gc/FIN/24b+Bz8Ug3/bhv1KhBH+nBue/g68gkTldz78zzUzj9d3evzPNTOP13d6/L5T4dOvQf78ic0Pdbxbsv2o45U/DfuS/ajjlT8N+5L9SoQR/pwbnv4HPxSDf9uG/4wuj1Kg9xb9i+w2FLc7Zv2o45U/DfuS/M81M4/Xd3r9SoQR/pwbnv+MLo9SoPcW/M81M4/Xd3r8vlPh069B/v4OvIJE5Xc+/",
          "dtype": "f8"
         },
         "y": {
          "bdata": "j6qrlwpz2j+vFw0fxV7fPyDnXjFR6uA/aEI30z8l4j/4+OcWHZvkP0BUwLgL1uU/iK+YWvoQ5z+Ir5ha+hDnP4ivmFr6EOc/iK+YWvoQ5z/QCnH86EvoP2HBIUDGweo/gS6Dx4Ct7z/lxK20N3TwPy0ghlYmr/E/8brTLlg49z+V6L9/z9X3P8rMXBQk6fo/ysxcFCTp+j+ZSsue5ocAQFfqBToIrwJA",
          "dtype": "f8"
         },
         "z": {
          "bdata": "8EYlmrTm8D/aJFBaLNfpPzUnoAwXM/g/WzZPKeEq6z90niClPIn3P1xZTcdK0u0/L76lMto88D/1rx908dz4P7DPpAGPkPE/3EdO+JV+7D9yeyIH0+H0P/fSHRJbhPs/3WpMlv8l7z945BzhD9j8P7QVoT1i3/Y/tBWhPWLf9j81J6AMFzP4P/OMIdaHNfY/2AFSvMIv5z92wR5DpjD6P3FYJGlpOvI/",
          "dtype": "f8"
         }
        },
        {
         "marker": {
          "color": "magenta",
          "size": 2.5
         },
         "mode": "markers",
         "name": "Cluster 5",
         "type": "scatter3d",
         "x": {
          "bdata": "kQilh27f3T8JbDXUJuv3P5IpzyZlvtS/kQilh27f3T8BvzDRY4fmP+MLo9SoPcW/xeVmXmyX8T+E0EowMDy2v0Am0dkqYM0/rU6GjVAf9D9AJtHZKmDNP5IpzyZlvtS/Ab8w0WOH5j8x7fFym3fhPw==",
          "dtype": "f8"
         },
         "y": {
          "bdata": "IOdeMVHq4D+wnQ91LmDjP4ivmFr6EOc/iK+YWvoQ5z+Ir5ha+hDnP4nymQWvEfE/LSCGViav8T/xutMuWDj3PzkWrNBGc/g/gnGEcjWu+T/KzFwUJOn6P8rMXBQk6fo/V+oFOgivAkBEc8osbocEQA==",
          "dtype": "f8"
         },
         "z": {
          "bdata": "sR26sgOL/b8yL7mBuN7+v2oaQaI3l/O/6ytAcezq9L/tTj4PVpL3v6huw5zzRfC/Lum8ReWP+b/KhYsuX+npv0QLkoVtn+C/6QhC04JD8r8sxr6ne+j2v6mRwTpd7fK/7U4+D1aS97/Oy4dqMjjvvw==",
          "dtype": "f8"
         }
        },
        {
         "marker": {
          "color": "black",
          "size": 3.5
         },
         "mode": "markers",
         "name": "Centroids",
         "type": "scatter3d",
         "x": {
          "bdata": "6TvWYDH7779TSQWYw8ncP8IGTQ4l592/hKVNBydR9D/gUs8V0GnRP/L5bBZ2qOm/",
          "dtype": "f8"
         },
         "y": {
          "bdata": "X0oJvjKk9L9HyPhveO/0P4tl0Uq3e/A/DVCVYt6yyL8kS8sq9R70v3tF8DLGmbK/",
          "dtype": "f8"
         },
         "z": {
          "bdata": "ENzUark/8z9K5tt3u330v3EaI31a//M/s0nu43E7u78YV0o9VXX0v/NauBoNZMe/",
          "dtype": "f8"
         }
        }
       ],
       "layout": {
        "template": {
         "data": {
          "bar": [
           {
            "error_x": {
             "color": "#2a3f5f"
            },
            "error_y": {
             "color": "#2a3f5f"
            },
            "marker": {
             "line": {
              "color": "#E5ECF6",
              "width": 0.5
             },
             "pattern": {
              "fillmode": "overlay",
              "size": 10,
              "solidity": 0.2
             }
            },
            "type": "bar"
           }
          ],
          "barpolar": [
           {
            "marker": {
             "line": {
              "color": "#E5ECF6",
              "width": 0.5
             },
             "pattern": {
              "fillmode": "overlay",
              "size": 10,
              "solidity": 0.2
             }
            },
            "type": "barpolar"
           }
          ],
          "carpet": [
           {
            "aaxis": {
             "endlinecolor": "#2a3f5f",
             "gridcolor": "white",
             "linecolor": "white",
             "minorgridcolor": "white",
             "startlinecolor": "#2a3f5f"
            },
            "baxis": {
             "endlinecolor": "#2a3f5f",
             "gridcolor": "white",
             "linecolor": "white",
             "minorgridcolor": "white",
             "startlinecolor": "#2a3f5f"
            },
            "type": "carpet"
           }
          ],
          "choropleth": [
           {
            "colorbar": {
             "outlinewidth": 0,
             "ticks": ""
            },
            "type": "choropleth"
           }
          ],
          "contour": [
           {
            "colorbar": {
             "outlinewidth": 0,
             "ticks": ""
            },
            "colorscale": [
             [
              0,
              "#0d0887"
             ],
             [
              0.1111111111111111,
              "#46039f"
             ],
             [
              0.2222222222222222,
              "#7201a8"
             ],
             [
              0.3333333333333333,
              "#9c179e"
             ],
             [
              0.4444444444444444,
              "#bd3786"
             ],
             [
              0.5555555555555556,
              "#d8576b"
             ],
             [
              0.6666666666666666,
              "#ed7953"
             ],
             [
              0.7777777777777778,
              "#fb9f3a"
             ],
             [
              0.8888888888888888,
              "#fdca26"
             ],
             [
              1,
              "#f0f921"
             ]
            ],
            "type": "contour"
           }
          ],
          "contourcarpet": [
           {
            "colorbar": {
             "outlinewidth": 0,
             "ticks": ""
            },
            "type": "contourcarpet"
           }
          ],
          "heatmap": [
           {
            "colorbar": {
             "outlinewidth": 0,
             "ticks": ""
            },
            "colorscale": [
             [
              0,
              "#0d0887"
             ],
             [
              0.1111111111111111,
              "#46039f"
             ],
             [
              0.2222222222222222,
              "#7201a8"
             ],
             [
              0.3333333333333333,
              "#9c179e"
             ],
             [
              0.4444444444444444,
              "#bd3786"
             ],
             [
              0.5555555555555556,
              "#d8576b"
             ],
             [
              0.6666666666666666,
              "#ed7953"
             ],
             [
              0.7777777777777778,
              "#fb9f3a"
             ],
             [
              0.8888888888888888,
              "#fdca26"
             ],
             [
              1,
              "#f0f921"
             ]
            ],
            "type": "heatmap"
           }
          ],
          "histogram": [
           {
            "marker": {
             "pattern": {
              "fillmode": "overlay",
              "size": 10,
              "solidity": 0.2
             }
            },
            "type": "histogram"
           }
          ],
          "histogram2d": [
           {
            "colorbar": {
             "outlinewidth": 0,
             "ticks": ""
            },
            "colorscale": [
             [
              0,
              "#0d0887"
             ],
             [
              0.1111111111111111,
              "#46039f"
             ],
             [
              0.2222222222222222,
              "#7201a8"
             ],
             [
              0.3333333333333333,
              "#9c179e"
             ],
             [
              0.4444444444444444,
              "#bd3786"
             ],
             [
              0.5555555555555556,
              "#d8576b"
             ],
             [
              0.6666666666666666,
              "#ed7953"
             ],
             [
              0.7777777777777778,
              "#fb9f3a"
             ],
             [
              0.8888888888888888,
              "#fdca26"
             ],
             [
              1,
              "#f0f921"
             ]
            ],
            "type": "histogram2d"
           }
          ],
          "histogram2dcontour": [
           {
            "colorbar": {
             "outlinewidth": 0,
             "ticks": ""
            },
            "colorscale": [
             [
              0,
              "#0d0887"
             ],
             [
              0.1111111111111111,
              "#46039f"
             ],
             [
              0.2222222222222222,
              "#7201a8"
             ],
             [
              0.3333333333333333,
              "#9c179e"
             ],
             [
              0.4444444444444444,
              "#bd3786"
             ],
             [
              0.5555555555555556,
              "#d8576b"
             ],
             [
              0.6666666666666666,
              "#ed7953"
             ],
             [
              0.7777777777777778,
              "#fb9f3a"
             ],
             [
              0.8888888888888888,
              "#fdca26"
             ],
             [
              1,
              "#f0f921"
             ]
            ],
            "type": "histogram2dcontour"
           }
          ],
          "mesh3d": [
           {
            "colorbar": {
             "outlinewidth": 0,
             "ticks": ""
            },
            "type": "mesh3d"
           }
          ],
          "parcoords": [
           {
            "line": {
             "colorbar": {
              "outlinewidth": 0,
              "ticks": ""
             }
            },
            "type": "parcoords"
           }
          ],
          "pie": [
           {
            "automargin": true,
            "type": "pie"
           }
          ],
          "scatter": [
           {
            "fillpattern": {
             "fillmode": "overlay",
             "size": 10,
             "solidity": 0.2
            },
            "type": "scatter"
           }
          ],
          "scatter3d": [
           {
            "line": {
             "colorbar": {
              "outlinewidth": 0,
              "ticks": ""
             }
            },
            "marker": {
             "colorbar": {
              "outlinewidth": 0,
              "ticks": ""
             }
            },
            "type": "scatter3d"
           }
          ],
          "scattercarpet": [
           {
            "marker": {
             "colorbar": {
              "outlinewidth": 0,
              "ticks": ""
             }
            },
            "type": "scattercarpet"
           }
          ],
          "scattergeo": [
           {
            "marker": {
             "colorbar": {
              "outlinewidth": 0,
              "ticks": ""
             }
            },
            "type": "scattergeo"
           }
          ],
          "scattergl": [
           {
            "marker": {
             "colorbar": {
              "outlinewidth": 0,
              "ticks": ""
             }
            },
            "type": "scattergl"
           }
          ],
          "scattermap": [
           {
            "marker": {
             "colorbar": {
              "outlinewidth": 0,
              "ticks": ""
             }
            },
            "type": "scattermap"
           }
          ],
          "scattermapbox": [
           {
            "marker": {
             "colorbar": {
              "outlinewidth": 0,
              "ticks": ""
             }
            },
            "type": "scattermapbox"
           }
          ],
          "scatterpolar": [
           {
            "marker": {
             "colorbar": {
              "outlinewidth": 0,
              "ticks": ""
             }
            },
            "type": "scatterpolar"
           }
          ],
          "scatterpolargl": [
           {
            "marker": {
             "colorbar": {
              "outlinewidth": 0,
              "ticks": ""
             }
            },
            "type": "scatterpolargl"
           }
          ],
          "scatterternary": [
           {
            "marker": {
             "colorbar": {
              "outlinewidth": 0,
              "ticks": ""
             }
            },
            "type": "scatterternary"
           }
          ],
          "surface": [
           {
            "colorbar": {
             "outlinewidth": 0,
             "ticks": ""
            },
            "colorscale": [
             [
              0,
              "#0d0887"
             ],
             [
              0.1111111111111111,
              "#46039f"
             ],
             [
              0.2222222222222222,
              "#7201a8"
             ],
             [
              0.3333333333333333,
              "#9c179e"
             ],
             [
              0.4444444444444444,
              "#bd3786"
             ],
             [
              0.5555555555555556,
              "#d8576b"
             ],
             [
              0.6666666666666666,
              "#ed7953"
             ],
             [
              0.7777777777777778,
              "#fb9f3a"
             ],
             [
              0.8888888888888888,
              "#fdca26"
             ],
             [
              1,
              "#f0f921"
             ]
            ],
            "type": "surface"
           }
          ],
          "table": [
           {
            "cells": {
             "fill": {
              "color": "#EBF0F8"
             },
             "line": {
              "color": "white"
             }
            },
            "header": {
             "fill": {
              "color": "#C8D4E3"
             },
             "line": {
              "color": "white"
             }
            },
            "type": "table"
           }
          ]
         },
         "layout": {
          "annotationdefaults": {
           "arrowcolor": "#2a3f5f",
           "arrowhead": 0,
           "arrowwidth": 1
          },
          "autotypenumbers": "strict",
          "coloraxis": {
           "colorbar": {
            "outlinewidth": 0,
            "ticks": ""
           }
          },
          "colorscale": {
           "diverging": [
            [
             0,
             "#8e0152"
            ],
            [
             0.1,
             "#c51b7d"
            ],
            [
             0.2,
             "#de77ae"
            ],
            [
             0.3,
             "#f1b6da"
            ],
            [
             0.4,
             "#fde0ef"
            ],
            [
             0.5,
             "#f7f7f7"
            ],
            [
             0.6,
             "#e6f5d0"
            ],
            [
             0.7,
             "#b8e186"
            ],
            [
             0.8,
             "#7fbc41"
            ],
            [
             0.9,
             "#4d9221"
            ],
            [
             1,
             "#276419"
            ]
           ],
           "sequential": [
            [
             0,
             "#0d0887"
            ],
            [
             0.1111111111111111,
             "#46039f"
            ],
            [
             0.2222222222222222,
             "#7201a8"
            ],
            [
             0.3333333333333333,
             "#9c179e"
            ],
            [
             0.4444444444444444,
             "#bd3786"
            ],
            [
             0.5555555555555556,
             "#d8576b"
            ],
            [
             0.6666666666666666,
             "#ed7953"
            ],
            [
             0.7777777777777778,
             "#fb9f3a"
            ],
            [
             0.8888888888888888,
             "#fdca26"
            ],
            [
             1,
             "#f0f921"
            ]
           ],
           "sequentialminus": [
            [
             0,
             "#0d0887"
            ],
            [
             0.1111111111111111,
             "#46039f"
            ],
            [
             0.2222222222222222,
             "#7201a8"
            ],
            [
             0.3333333333333333,
             "#9c179e"
            ],
            [
             0.4444444444444444,
             "#bd3786"
            ],
            [
             0.5555555555555556,
             "#d8576b"
            ],
            [
             0.6666666666666666,
             "#ed7953"
            ],
            [
             0.7777777777777778,
             "#fb9f3a"
            ],
            [
             0.8888888888888888,
             "#fdca26"
            ],
            [
             1,
             "#f0f921"
            ]
           ]
          },
          "colorway": [
           "#636efa",
           "#EF553B",
           "#00cc96",
           "#ab63fa",
           "#FFA15A",
           "#19d3f3",
           "#FF6692",
           "#B6E880",
           "#FF97FF",
           "#FECB52"
          ],
          "font": {
           "color": "#2a3f5f"
          },
          "geo": {
           "bgcolor": "white",
           "lakecolor": "white",
           "landcolor": "#E5ECF6",
           "showlakes": true,
           "showland": true,
           "subunitcolor": "white"
          },
          "hoverlabel": {
           "align": "left"
          },
          "hovermode": "closest",
          "mapbox": {
           "style": "light"
          },
          "paper_bgcolor": "white",
          "plot_bgcolor": "#E5ECF6",
          "polar": {
           "angularaxis": {
            "gridcolor": "white",
            "linecolor": "white",
            "ticks": ""
           },
           "bgcolor": "#E5ECF6",
           "radialaxis": {
            "gridcolor": "white",
            "linecolor": "white",
            "ticks": ""
           }
          },
          "scene": {
           "xaxis": {
            "backgroundcolor": "#E5ECF6",
            "gridcolor": "white",
            "gridwidth": 2,
            "linecolor": "white",
            "showbackground": true,
            "ticks": "",
            "zerolinecolor": "white"
           },
           "yaxis": {
            "backgroundcolor": "#E5ECF6",
            "gridcolor": "white",
            "gridwidth": 2,
            "linecolor": "white",
            "showbackground": true,
            "ticks": "",
            "zerolinecolor": "white"
           },
           "zaxis": {
            "backgroundcolor": "#E5ECF6",
            "gridcolor": "white",
            "gridwidth": 2,
            "linecolor": "white",
            "showbackground": true,
            "ticks": "",
            "zerolinecolor": "white"
           }
          },
          "shapedefaults": {
           "line": {
            "color": "#2a3f5f"
           }
          },
          "ternary": {
           "aaxis": {
            "gridcolor": "white",
            "linecolor": "white",
            "ticks": ""
           },
           "baxis": {
            "gridcolor": "white",
            "linecolor": "white",
            "ticks": ""
           },
           "bgcolor": "#E5ECF6",
           "caxis": {
            "gridcolor": "white",
            "linecolor": "white",
            "ticks": ""
           }
          },
          "title": {
           "x": 0.05
          },
          "xaxis": {
           "automargin": true,
           "gridcolor": "white",
           "linecolor": "white",
           "ticks": "",
           "title": {
            "standoff": 15
           },
           "zerolinecolor": "white",
           "zerolinewidth": 2
          },
          "yaxis": {
           "automargin": true,
           "gridcolor": "white",
           "linecolor": "white",
           "ticks": "",
           "title": {
            "standoff": 15
           },
           "zerolinecolor": "white",
           "zerolinewidth": 2
          }
         }
        }
       }
      }
     },
     "metadata": {},
     "output_type": "display_data"
    }
   ],
   "source": [
    "import plotly.graph_objects as go\n",
    "\n",
    "dataframe_female['ClustersFemale'] = kmeans.fit_predict(dataframe_female[['Age', 'Annual Income', 'Spending Score']])\n",
    "\n",
    "colours = ['blue', 'red', 'green', 'cyan', 'magenta', 'yellow']\n",
    "\n",
    "figure_female = go.Figure()\n",
    "\n",
    "for cluster in dataframe_female['ClustersFemale'].unique():\n",
    "  df_cluster = dataframe_female[dataframe_female['ClustersFemale'] == cluster]\n",
    "  figure_female.add_trace(go.Scatter3d(\n",
    "    x = df_cluster['Age'], \n",
    "    y = df_cluster['Annual Income'], \n",
    "    z = df_cluster['Spending Score'], \n",
    "    mode = 'markers',\n",
    "    marker = dict(size = 2.5, color = colours[cluster]),\n",
    "    name = 'Cluster ' + str(cluster + 1)\n",
    "  ))\n",
    "\n",
    "# Añadimos los centroides de cada cluster al gráfico\n",
    "figure_female.add_trace(go.Scatter3d(\n",
    "  x = centroids_female[:, 0], \n",
    "  y = centroids_female[:, 1], \n",
    "  z = centroids_female[:, 2], \n",
    "  mode = 'markers',\n",
    "  marker = dict(size = 3.5, color = 'black'),\n",
    "  name = 'Centroids'\n",
    "))\n",
    "\n",
    "figure_female.show()"
   ]
  },
  {
   "cell_type": "markdown",
   "metadata": {},
   "source": [
    "Realizamos el mismo procedimiento que en el caso anterior, pero esta vez para el conjunto de datos de los hombres."
   ]
  },
  {
   "cell_type": "code",
   "execution_count": 267,
   "metadata": {},
   "outputs": [
    {
     "name": "stdout",
     "output_type": "stream",
     "text": [
      "Age               33.5625\n",
      "Annual Income     81.5625\n",
      "Spending Score    83.1875\n",
      "dtype: float64\n",
      "Age               58.84\n",
      "Annual Income     47.80\n",
      "Spending Score    41.00\n",
      "dtype: float64\n",
      "Age                32.5\n",
      "Annual Income     119.5\n",
      "Spending Score     41.0\n",
      "dtype: float64\n",
      "Age               40.277778\n",
      "Annual Income     80.722222\n",
      "Spending Score    14.166667\n",
      "dtype: float64\n",
      "Age               26.846154\n",
      "Annual Income     25.615385\n",
      "Spending Score    65.076923\n",
      "dtype: float64\n",
      "Age               24.500000\n",
      "Annual Income     56.416667\n",
      "Spending Score    52.416667\n",
      "dtype: float64\n"
     ]
    }
   ],
   "source": [
    "clusters = 6\n",
    "\n",
    "kmeans_male = KMeans(clusters).fit(dataframe_male)\n",
    "centroids_male = kmeans_male.cluster_centers_\n",
    "\n",
    "# Deshacemos la estandarización, para mostrar los resultados en la escala original\n",
    "for each in centroids_male:\n",
    "  print(each * dataframe_male_std + dataframe_male_mean)"
   ]
  },
  {
   "cell_type": "code",
   "execution_count": null,
   "metadata": {},
   "outputs": [
    {
     "data": {
      "application/vnd.plotly.v1+json": {
       "config": {
        "plotlyServerURL": "https://plot.ly"
       },
       "data": [
        {
         "marker": {
          "color": "magenta",
          "size": 3
         },
         "mode": "markers",
         "name": "Cluster 5",
         "type": "scatter3d",
         "x": {
          "bdata": "KfWnDzmA9b/I4m4hTXTzv5hZUipXbvK/+WuLGEN69L8OfPmJ6rjuv8oNo/RiceK/jDIV0TqJ5r+QiH13ZoPUv1l+xAYvhva/N0cZPGti8L8S0mEwFrPcvyn1pw85gPW/WX7EBi+G9r8p9acPOYD1v61pwJv+rOy/mDROxL13wL9ZfsQGL4b2vzdHGTxrYvC/+WuLGEN69L+tacCb/qzsvyn1pw85gPW/TVeHrRKh6r8=",
          "dtype": "f8"
         },
         "y": {
          "bdata": "EEhV+rzr/b8QSFX6vOv9v7/xiSbLofq/SK3HlWf5+b/k34DjPAD4v22bvlLZV/e/Cc53oK5e9b8Jznegrl71v7h3rMy8FPK/zkLC8ZWV7b8ZH7BreVLov2P7neVcD+O/iemUos5t4L+J6ZSizm3gv/Jn87JHEtG/8mfzskcS0b9kdTAeA1Svvx/Nzwsij5S/i1DBJMKJlT8aN6kqU9GvPzGVztaNesI/KICCtPEh0T8=",
          "dtype": "f8"
         },
         "z": {
          "bdata": "hA8t3cvO1b+TEexTgL3yP9diJkSWlvE/HeZCu0kz5D9EraopsEPsP0StqimwQ+w/8ujOW/VQ8z/e+MzYbuHcP6BSq6qHE/k/oFKrqocT+T9lm0G5mpPaPxKQETfsHM4/7D22mcZF2D/sPbaZxkXYPyDV+vdDgck/EpARN+wczj+SVBaeIzPRvz1fzXnzScA/Q3NJ5NW3kz8SkBE37BzOP9kEdgH8t7a/giUUO0pc0T8=",
          "dtype": "f8"
         }
        },
        {
         "marker": {
          "color": "cyan",
          "size": 3
         },
         "mode": "markers",
         "name": "Cluster 4",
         "type": "scatter3d",
         "x": {
          "bdata": "VShcYAOM+D/mw7FF5Z37Pxt+Mn1tp8i/I3QLlveI6D+QiH13ZoPUv5QD6oMrdPQ/g4ZEhOOU6j+gKifdR1ngPw==",
          "dtype": "f8"
         },
         "y": {
          "bdata": "NTZMty5K+781Nky3Lkr7v7/xiSbLofq/WyRDdKCo+L/k34DjPAD4vxxF837nDfS/uHeszLwU8r/guT3QzkTsvw==",
          "dtype": "f8"
         },
         "z": {
          "bdata": "II0xEygw+r8UTHK8INrzv3IjVcSVbfS/HltPjIps5r9nhVpbHAbfv8K1TguznPm/wrVOC7Oc+b/uJ887SLjcvw==",
          "dtype": "f8"
         }
        },
        {
         "marker": {
          "color": "red",
          "size": 3
         },
         "mode": "markers",
         "name": "Cluster 2",
         "type": "scatter3d",
         "x": {
          "bdata": "Y3rNjDVu8z9/MNzdt5rcP0bW6jPRqf0/g4ZEhOOU6j93Xwcrx6/+PyWfP2kNhvc/d18HK8ev/j9jes2MNW7zPz2ToYVSXki/A2iUnkli8T/mw7FF5Z37P6AqJ91HWeA/oCon3UdZ4D+gKifdR1ngP+bDsUXlnfs/AT1gyzNl4j/kmH1yz6DsPxZNzjzbo/w/tjqVTu+X+j+FsXhX+ZH5Pw==",
          "dtype": "f8"
         },
         "y": {
          "bdata": "K5YrSrIB578rlitKsgHnvz4NpyjrsOW/Y/ud5VwP479j+53lXA/jv4nplKLObeC/N8EgAg863r/yZ/OyRxLRv/Jn87JHEtG/8mfzskcS0b/yZ/OyRxLRv/Jn87JHEtG/H83PCyKPlL+LUMEkwomVPxo3qSpT0a8/GjepKlPRrz/44nih4m66P/jieKHibro/+OJ4oeJuuj/44nih4m66Pw==",
          "dtype": "f8"
         },
         "z": {
          "bdata": "ZZtBuZqT2j+SVBaeIzPRv9kEdgH8t7a/2QR2Afy3tr+CJRQ7SlzRP5dIbXWWXLc/EpARN+wczj/rHZEGVwGrv0pkbBRsJZG/l0htdZZctz+SVBaeIzPRv9kEdgH8t7a/Q3NJ5NW3kz8z7hX9nsrNv+w9tpnGRdg/giUUO0pc0T/ZBHYB/Le2v0Ez/732Lsm/SmRsFGwlkb89X81580nAPw==",
          "dtype": "f8"
         }
        },
        {
         "marker": {
          "color": "blue",
          "size": 3
         },
         "mode": "markers",
         "name": "Cluster 1",
         "type": "scatter3d",
         "x": {
          "bdata": "K9bTFhyQsL89k6GFUl5Iv5g0TsS9d8C/K9bTFhyQsL9q+2kGd2Xgv2r7aQZ3ZeC/7EROvyaV6L9Rre9TPpvYvyvW0xYckLC/avtpBndl4L/sRE6/JpXov89jC5uOa9C/TVeHrRKh6r+QiH13ZoPUvysg3OJOfeS/7EROvyaV6L9q+2kGd2Xgvw==",
          "dtype": "f8"
         },
         "y": {
          "bdata": "3qOUOg5l1j+Tx6bAKqjbP5PHpsAqqNs/k8emwCqo2z+kdVyjo3XgP3+HZeYxF+M/WZluKcC45T9HIvNKhwnnP0ci80qHCec/T/lNvENw8T9P+U28Q3DxP0/5TbxDcPE/xj0QTacY8j8XlNsgmWL1P98uaYXuVPk/zLftprWl+j+xM/Nkt4sFQA==",
          "dtype": "f8"
         },
         "z": {
          "bdata": "QXvIohKA+D+62FPC5s36P70KNkmEke4/vQo2SYSR7j9EraopsEPsP/4pjrL8pvk/d4cZ0tD0+z/jo+Wanez3Pyf1H4uzxfY/6Nnxi4u+4D+9CjZJhJHuP6BSq6qHE/k/UvKT6geo5z/jo+Wanez3P3eHGdLQ9Ps/lkPO2h2B5j8AXHA5mmrtPw==",
          "dtype": "f8"
         }
        },
        {
         "marker": {
          "color": "green",
          "size": 3
         },
         "mode": "markers",
         "name": "Cluster 3",
         "type": "scatter3d",
         "x": {
          "bdata": "9Don2LB2yD9jes2MNW7zP38w3N23mtw/oCon3UdZ4D/0OifYsHbIP2FPmbkfceQ/cvFCHwFHwD89k6GFUl5Iv89jC5uOa9C/M/GwlT9o8j9jes2MNW7zP74LagHggtg/EtJhMBaz3L8=",
          "dtype": "f8"
         },
         "y": {
          "bdata": "k8emwCqo2z+Tx6bAKqjbP5PHpsAqqNs/WZluKcC45T9HIvNKhwnnP2JwyZp8H/A/2bSLK+DH8D9P+U28Q3DxP0/5TbxDcPE/xj0QTacY8j8XlNsgmWL1P2jqpvSKrPg/rnYEODBFAUA=",
          "dtype": "f8"
         },
         "z": {
          "bdata": "Z4VaWxwG378v0hrUf5T1v+uA4ONpu/a/7ifPO0i43L/5xcmkwR/yv1NnoLtI4em/3z8hjWJl8L9yI1XElW30v42p/dv0J/a/tnSPtKtG878UTHK8INrzv7Z0j7SrRvO/SVjD695O978=",
          "dtype": "f8"
         }
        },
        {
         "marker": {
          "color": "yellow",
          "size": 3
         },
         "mode": "markers",
         "name": "Cluster 6",
         "type": "scatter3d",
         "x": {
          "bdata": "+WuLGEN69L8p9acPOYD1vw58+YnquO6/G34yfW2nyL9Rre9TPpvYvyn1pw85gPW/",
          "dtype": "f8"
         },
         "y": {
          "bdata": "pHVco6N14D+R/uDEasbhP1mZbinAuOU/RyLzSocJ5z9HIvNKhwnnPw+9gK/c++o/",
          "dtype": "f8"
         },
         "z": {
          "bdata": "ZN5rAz4J+b+Nqf3b9Cf2v9D6N8wKAfW/3Tv3IhJX+7/dO/ciElf7v2TeawM+Cfm/",
          "dtype": "f8"
         }
        },
        {
         "marker": {
          "color": "black",
          "size": 3.5
         },
         "mode": "markers",
         "name": "Centroids",
         "type": "scatter3d",
         "x": {
          "bdata": "Zp1hxKxl2r+tbrSiS0TzP3Pkmh4Cv96/uZYjIyJukT81lfIgrfHqvz4FFoHgvu+/",
          "dtype": "f8"
         },
         "y": {
          "bdata": "E0pbsky56z/rBEmpKbHgvy/Ve85zaANAknq/CVCe6j+aXTOXOfD2v5j5OncKbcW/",
          "dtype": "f8"
         },
         "z": {
          "bdata": "skgsVRAA9D+SVBaeIzPRv5JUFp4jM9G/2dIhO43B8780bIw2DyPjP8zXFpR5NcI/",
          "dtype": "f8"
         }
        }
       ],
       "layout": {
        "template": {
         "data": {
          "bar": [
           {
            "error_x": {
             "color": "#2a3f5f"
            },
            "error_y": {
             "color": "#2a3f5f"
            },
            "marker": {
             "line": {
              "color": "#E5ECF6",
              "width": 0.5
             },
             "pattern": {
              "fillmode": "overlay",
              "size": 10,
              "solidity": 0.2
             }
            },
            "type": "bar"
           }
          ],
          "barpolar": [
           {
            "marker": {
             "line": {
              "color": "#E5ECF6",
              "width": 0.5
             },
             "pattern": {
              "fillmode": "overlay",
              "size": 10,
              "solidity": 0.2
             }
            },
            "type": "barpolar"
           }
          ],
          "carpet": [
           {
            "aaxis": {
             "endlinecolor": "#2a3f5f",
             "gridcolor": "white",
             "linecolor": "white",
             "minorgridcolor": "white",
             "startlinecolor": "#2a3f5f"
            },
            "baxis": {
             "endlinecolor": "#2a3f5f",
             "gridcolor": "white",
             "linecolor": "white",
             "minorgridcolor": "white",
             "startlinecolor": "#2a3f5f"
            },
            "type": "carpet"
           }
          ],
          "choropleth": [
           {
            "colorbar": {
             "outlinewidth": 0,
             "ticks": ""
            },
            "type": "choropleth"
           }
          ],
          "contour": [
           {
            "colorbar": {
             "outlinewidth": 0,
             "ticks": ""
            },
            "colorscale": [
             [
              0,
              "#0d0887"
             ],
             [
              0.1111111111111111,
              "#46039f"
             ],
             [
              0.2222222222222222,
              "#7201a8"
             ],
             [
              0.3333333333333333,
              "#9c179e"
             ],
             [
              0.4444444444444444,
              "#bd3786"
             ],
             [
              0.5555555555555556,
              "#d8576b"
             ],
             [
              0.6666666666666666,
              "#ed7953"
             ],
             [
              0.7777777777777778,
              "#fb9f3a"
             ],
             [
              0.8888888888888888,
              "#fdca26"
             ],
             [
              1,
              "#f0f921"
             ]
            ],
            "type": "contour"
           }
          ],
          "contourcarpet": [
           {
            "colorbar": {
             "outlinewidth": 0,
             "ticks": ""
            },
            "type": "contourcarpet"
           }
          ],
          "heatmap": [
           {
            "colorbar": {
             "outlinewidth": 0,
             "ticks": ""
            },
            "colorscale": [
             [
              0,
              "#0d0887"
             ],
             [
              0.1111111111111111,
              "#46039f"
             ],
             [
              0.2222222222222222,
              "#7201a8"
             ],
             [
              0.3333333333333333,
              "#9c179e"
             ],
             [
              0.4444444444444444,
              "#bd3786"
             ],
             [
              0.5555555555555556,
              "#d8576b"
             ],
             [
              0.6666666666666666,
              "#ed7953"
             ],
             [
              0.7777777777777778,
              "#fb9f3a"
             ],
             [
              0.8888888888888888,
              "#fdca26"
             ],
             [
              1,
              "#f0f921"
             ]
            ],
            "type": "heatmap"
           }
          ],
          "histogram": [
           {
            "marker": {
             "pattern": {
              "fillmode": "overlay",
              "size": 10,
              "solidity": 0.2
             }
            },
            "type": "histogram"
           }
          ],
          "histogram2d": [
           {
            "colorbar": {
             "outlinewidth": 0,
             "ticks": ""
            },
            "colorscale": [
             [
              0,
              "#0d0887"
             ],
             [
              0.1111111111111111,
              "#46039f"
             ],
             [
              0.2222222222222222,
              "#7201a8"
             ],
             [
              0.3333333333333333,
              "#9c179e"
             ],
             [
              0.4444444444444444,
              "#bd3786"
             ],
             [
              0.5555555555555556,
              "#d8576b"
             ],
             [
              0.6666666666666666,
              "#ed7953"
             ],
             [
              0.7777777777777778,
              "#fb9f3a"
             ],
             [
              0.8888888888888888,
              "#fdca26"
             ],
             [
              1,
              "#f0f921"
             ]
            ],
            "type": "histogram2d"
           }
          ],
          "histogram2dcontour": [
           {
            "colorbar": {
             "outlinewidth": 0,
             "ticks": ""
            },
            "colorscale": [
             [
              0,
              "#0d0887"
             ],
             [
              0.1111111111111111,
              "#46039f"
             ],
             [
              0.2222222222222222,
              "#7201a8"
             ],
             [
              0.3333333333333333,
              "#9c179e"
             ],
             [
              0.4444444444444444,
              "#bd3786"
             ],
             [
              0.5555555555555556,
              "#d8576b"
             ],
             [
              0.6666666666666666,
              "#ed7953"
             ],
             [
              0.7777777777777778,
              "#fb9f3a"
             ],
             [
              0.8888888888888888,
              "#fdca26"
             ],
             [
              1,
              "#f0f921"
             ]
            ],
            "type": "histogram2dcontour"
           }
          ],
          "mesh3d": [
           {
            "colorbar": {
             "outlinewidth": 0,
             "ticks": ""
            },
            "type": "mesh3d"
           }
          ],
          "parcoords": [
           {
            "line": {
             "colorbar": {
              "outlinewidth": 0,
              "ticks": ""
             }
            },
            "type": "parcoords"
           }
          ],
          "pie": [
           {
            "automargin": true,
            "type": "pie"
           }
          ],
          "scatter": [
           {
            "fillpattern": {
             "fillmode": "overlay",
             "size": 10,
             "solidity": 0.2
            },
            "type": "scatter"
           }
          ],
          "scatter3d": [
           {
            "line": {
             "colorbar": {
              "outlinewidth": 0,
              "ticks": ""
             }
            },
            "marker": {
             "colorbar": {
              "outlinewidth": 0,
              "ticks": ""
             }
            },
            "type": "scatter3d"
           }
          ],
          "scattercarpet": [
           {
            "marker": {
             "colorbar": {
              "outlinewidth": 0,
              "ticks": ""
             }
            },
            "type": "scattercarpet"
           }
          ],
          "scattergeo": [
           {
            "marker": {
             "colorbar": {
              "outlinewidth": 0,
              "ticks": ""
             }
            },
            "type": "scattergeo"
           }
          ],
          "scattergl": [
           {
            "marker": {
             "colorbar": {
              "outlinewidth": 0,
              "ticks": ""
             }
            },
            "type": "scattergl"
           }
          ],
          "scattermap": [
           {
            "marker": {
             "colorbar": {
              "outlinewidth": 0,
              "ticks": ""
             }
            },
            "type": "scattermap"
           }
          ],
          "scattermapbox": [
           {
            "marker": {
             "colorbar": {
              "outlinewidth": 0,
              "ticks": ""
             }
            },
            "type": "scattermapbox"
           }
          ],
          "scatterpolar": [
           {
            "marker": {
             "colorbar": {
              "outlinewidth": 0,
              "ticks": ""
             }
            },
            "type": "scatterpolar"
           }
          ],
          "scatterpolargl": [
           {
            "marker": {
             "colorbar": {
              "outlinewidth": 0,
              "ticks": ""
             }
            },
            "type": "scatterpolargl"
           }
          ],
          "scatterternary": [
           {
            "marker": {
             "colorbar": {
              "outlinewidth": 0,
              "ticks": ""
             }
            },
            "type": "scatterternary"
           }
          ],
          "surface": [
           {
            "colorbar": {
             "outlinewidth": 0,
             "ticks": ""
            },
            "colorscale": [
             [
              0,
              "#0d0887"
             ],
             [
              0.1111111111111111,
              "#46039f"
             ],
             [
              0.2222222222222222,
              "#7201a8"
             ],
             [
              0.3333333333333333,
              "#9c179e"
             ],
             [
              0.4444444444444444,
              "#bd3786"
             ],
             [
              0.5555555555555556,
              "#d8576b"
             ],
             [
              0.6666666666666666,
              "#ed7953"
             ],
             [
              0.7777777777777778,
              "#fb9f3a"
             ],
             [
              0.8888888888888888,
              "#fdca26"
             ],
             [
              1,
              "#f0f921"
             ]
            ],
            "type": "surface"
           }
          ],
          "table": [
           {
            "cells": {
             "fill": {
              "color": "#EBF0F8"
             },
             "line": {
              "color": "white"
             }
            },
            "header": {
             "fill": {
              "color": "#C8D4E3"
             },
             "line": {
              "color": "white"
             }
            },
            "type": "table"
           }
          ]
         },
         "layout": {
          "annotationdefaults": {
           "arrowcolor": "#2a3f5f",
           "arrowhead": 0,
           "arrowwidth": 1
          },
          "autotypenumbers": "strict",
          "coloraxis": {
           "colorbar": {
            "outlinewidth": 0,
            "ticks": ""
           }
          },
          "colorscale": {
           "diverging": [
            [
             0,
             "#8e0152"
            ],
            [
             0.1,
             "#c51b7d"
            ],
            [
             0.2,
             "#de77ae"
            ],
            [
             0.3,
             "#f1b6da"
            ],
            [
             0.4,
             "#fde0ef"
            ],
            [
             0.5,
             "#f7f7f7"
            ],
            [
             0.6,
             "#e6f5d0"
            ],
            [
             0.7,
             "#b8e186"
            ],
            [
             0.8,
             "#7fbc41"
            ],
            [
             0.9,
             "#4d9221"
            ],
            [
             1,
             "#276419"
            ]
           ],
           "sequential": [
            [
             0,
             "#0d0887"
            ],
            [
             0.1111111111111111,
             "#46039f"
            ],
            [
             0.2222222222222222,
             "#7201a8"
            ],
            [
             0.3333333333333333,
             "#9c179e"
            ],
            [
             0.4444444444444444,
             "#bd3786"
            ],
            [
             0.5555555555555556,
             "#d8576b"
            ],
            [
             0.6666666666666666,
             "#ed7953"
            ],
            [
             0.7777777777777778,
             "#fb9f3a"
            ],
            [
             0.8888888888888888,
             "#fdca26"
            ],
            [
             1,
             "#f0f921"
            ]
           ],
           "sequentialminus": [
            [
             0,
             "#0d0887"
            ],
            [
             0.1111111111111111,
             "#46039f"
            ],
            [
             0.2222222222222222,
             "#7201a8"
            ],
            [
             0.3333333333333333,
             "#9c179e"
            ],
            [
             0.4444444444444444,
             "#bd3786"
            ],
            [
             0.5555555555555556,
             "#d8576b"
            ],
            [
             0.6666666666666666,
             "#ed7953"
            ],
            [
             0.7777777777777778,
             "#fb9f3a"
            ],
            [
             0.8888888888888888,
             "#fdca26"
            ],
            [
             1,
             "#f0f921"
            ]
           ]
          },
          "colorway": [
           "#636efa",
           "#EF553B",
           "#00cc96",
           "#ab63fa",
           "#FFA15A",
           "#19d3f3",
           "#FF6692",
           "#B6E880",
           "#FF97FF",
           "#FECB52"
          ],
          "font": {
           "color": "#2a3f5f"
          },
          "geo": {
           "bgcolor": "white",
           "lakecolor": "white",
           "landcolor": "#E5ECF6",
           "showlakes": true,
           "showland": true,
           "subunitcolor": "white"
          },
          "hoverlabel": {
           "align": "left"
          },
          "hovermode": "closest",
          "mapbox": {
           "style": "light"
          },
          "paper_bgcolor": "white",
          "plot_bgcolor": "#E5ECF6",
          "polar": {
           "angularaxis": {
            "gridcolor": "white",
            "linecolor": "white",
            "ticks": ""
           },
           "bgcolor": "#E5ECF6",
           "radialaxis": {
            "gridcolor": "white",
            "linecolor": "white",
            "ticks": ""
           }
          },
          "scene": {
           "xaxis": {
            "backgroundcolor": "#E5ECF6",
            "gridcolor": "white",
            "gridwidth": 2,
            "linecolor": "white",
            "showbackground": true,
            "ticks": "",
            "zerolinecolor": "white"
           },
           "yaxis": {
            "backgroundcolor": "#E5ECF6",
            "gridcolor": "white",
            "gridwidth": 2,
            "linecolor": "white",
            "showbackground": true,
            "ticks": "",
            "zerolinecolor": "white"
           },
           "zaxis": {
            "backgroundcolor": "#E5ECF6",
            "gridcolor": "white",
            "gridwidth": 2,
            "linecolor": "white",
            "showbackground": true,
            "ticks": "",
            "zerolinecolor": "white"
           }
          },
          "shapedefaults": {
           "line": {
            "color": "#2a3f5f"
           }
          },
          "ternary": {
           "aaxis": {
            "gridcolor": "white",
            "linecolor": "white",
            "ticks": ""
           },
           "baxis": {
            "gridcolor": "white",
            "linecolor": "white",
            "ticks": ""
           },
           "bgcolor": "#E5ECF6",
           "caxis": {
            "gridcolor": "white",
            "linecolor": "white",
            "ticks": ""
           }
          },
          "title": {
           "x": 0.05
          },
          "xaxis": {
           "automargin": true,
           "gridcolor": "white",
           "linecolor": "white",
           "ticks": "",
           "title": {
            "standoff": 15
           },
           "zerolinecolor": "white",
           "zerolinewidth": 2
          },
          "yaxis": {
           "automargin": true,
           "gridcolor": "white",
           "linecolor": "white",
           "ticks": "",
           "title": {
            "standoff": 15
           },
           "zerolinecolor": "white",
           "zerolinewidth": 2
          }
         }
        }
       }
      }
     },
     "metadata": {},
     "output_type": "display_data"
    }
   ],
   "source": [
    "import plotly.graph_objects as go\n",
    "\n",
    "dataframe_male['ClusterMale'] = kmeans.fit_predict(dataframe_male[['Age', 'Annual Income', 'Spending Score']])\n",
    "\n",
    "colours = ['blue', 'red', 'green', 'cyan', 'magenta', 'yellow']\n",
    "\n",
    "figure_male = go.Figure()\n",
    "\n",
    "for cluster in dataframe_male['ClusterMale'].unique():\n",
    "  dataframe_cluster = dataframe_male[dataframe_male['ClusterMale'] == cluster]\n",
    "  figure_male.add_trace(go.Scatter3d(\n",
    "    x = dataframe_cluster['Age'], \n",
    "    y = dataframe_cluster['Annual Income'], \n",
    "    z = dataframe_cluster['Spending Score'], \n",
    "    mode = 'markers',\n",
    "    marker = dict(size = 3, color = colours[cluster]),\n",
    "    name = 'Cluster ' + str(cluster + 1)\n",
    "  ))\n",
    "\n",
    "# Añadimos los centroides de cada cluster al gráfico\n",
    "figure_male.add_trace(go.Scatter3d(\n",
    "  x = centroids_male[:, 0], \n",
    "  y = centroids_male[:, 1], \n",
    "  z = centroids_male[:, 2], \n",
    "  mode = 'markers',\n",
    "  marker = dict(size = 3.5, color = 'black'),\n",
    "  name = 'Centroids'\n",
    "))\n",
    "\n",
    "figure_male.show()"
   ]
  }
 ],
 "metadata": {
  "kernelspec": {
   "display_name": "myenv",
   "language": "python",
   "name": "python3"
  },
  "language_info": {
   "codemirror_mode": {
    "name": "ipython",
    "version": 3
   },
   "file_extension": ".py",
   "mimetype": "text/x-python",
   "name": "python",
   "nbconvert_exporter": "python",
   "pygments_lexer": "ipython3",
   "version": "3.12.3"
  }
 },
 "nbformat": 4,
 "nbformat_minor": 2
}
